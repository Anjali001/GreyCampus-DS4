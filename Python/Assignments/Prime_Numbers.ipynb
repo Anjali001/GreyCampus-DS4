{
  "nbformat": 4,
  "nbformat_minor": 0,
  "metadata": {
    "colab": {
      "name": "Prime_Numbers.ipynb",
      "provenance": []
    },
    "kernelspec": {
      "name": "python3",
      "display_name": "Python 3"
    },
    "language_info": {
      "name": "python"
    }
  },
  "cells": [
    {
      "cell_type": "code",
      "metadata": {
        "colab": {
          "base_uri": "https://localhost:8080/"
        },
        "id": "xyjDTC8EoOX_",
        "outputId": "2116e80a-b9bd-4b93-c9e5-c6dca1c89483"
      },
      "source": [
        "num = int(input(\"Enter a number: \"))\n",
        "flag = 0\n",
        "for i in range(2,num):\n",
        "  if num%i == 0:\n",
        "    flag=1\n",
        "    break\n",
        "if flag == 0:\n",
        "  print(\"Number is prime\")\n",
        "else:\n",
        "  print(\"Number is not Prime\")"
      ],
      "execution_count": 9,
      "outputs": [
        {
          "output_type": "stream",
          "text": [
            "Enter a number: 31\n",
            "Number is prime\n"
          ],
          "name": "stdout"
        }
      ]
    }
  ]
}