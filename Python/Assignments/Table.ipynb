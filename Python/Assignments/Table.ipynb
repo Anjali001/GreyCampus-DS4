{
  "nbformat": 4,
  "nbformat_minor": 0,
  "metadata": {
    "colab": {
      "name": "Table.ipynb",
      "provenance": []
    },
    "kernelspec": {
      "name": "python3",
      "display_name": "Python 3"
    },
    "language_info": {
      "name": "python"
    }
  },
  "cells": [
    {
      "cell_type": "code",
      "metadata": {
        "colab": {
          "base_uri": "https://localhost:8080/"
        },
        "id": "EKEC_TVDruzx",
        "outputId": "76ffdf77-0bae-4659-cd3c-7441ab8d1ce7"
      },
      "source": [
        "print(\"Multiplication Table for 12\")\n",
        "for i in range(1,11):\n",
        "  print(f'12 * {i} = {12*i}')"
      ],
      "execution_count": 2,
      "outputs": [
        {
          "output_type": "stream",
          "text": [
            "Multiplication Table for 12\n",
            "12 * 1 = 12\n",
            "12 * 2 = 24\n",
            "12 * 3 = 36\n",
            "12 * 4 = 48\n",
            "12 * 5 = 60\n",
            "12 * 6 = 72\n",
            "12 * 7 = 84\n",
            "12 * 8 = 96\n",
            "12 * 9 = 108\n",
            "12 * 10 = 120\n"
          ],
          "name": "stdout"
        }
      ]
    }
  ]
}