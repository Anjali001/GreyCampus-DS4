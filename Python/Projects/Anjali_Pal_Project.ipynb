{
 "metadata": {
  "language_info": {
   "codemirror_mode": {
    "name": "ipython",
    "version": 3
   },
   "file_extension": ".py",
   "mimetype": "text/x-python",
   "name": "python",
   "nbconvert_exporter": "python",
   "pygments_lexer": "ipython3",
   "version": "3.7.3"
  },
  "orig_nbformat": 2,
  "kernelspec": {
   "name": "python373jvsc74a57bd02192b546f136b8fe431fa1aa29e356bd2da1ad15b043d1ea0489e9abf936fda4",
   "display_name": "Python 3.7.3 64-bit ('base': conda)"
  }
 },
 "nbformat": 4,
 "nbformat_minor": 2,
 "cells": [
  {
   "source": [
    "# <center> Python Project </center>\n",
    "<center> By Anjali Pal, DS-4 , GreyCampus </center>\n",
    "## Dataset description:\n",
    "\n",
    "The data is about IMU’s\n",
    "\n",
    "What is an IMU?\n",
    " An inertial measurement unit (IMU) measures and reports raw or filtered angular rate and specific force/acceleration experienced by the object it is attached to. Data outputs for an IMU are typically body-frame accelerations, angular rates and (optionally) magnetic field measurements. \n",
    "\n",
    "The columns of the dataset are: \n",
    "1. Category: The category to which this IMU belongs. \n",
    "2. Manufacturer: Name of the manufacturer. \n",
    "3. part_number: Discrete part number \n",
    "4. sku: stock keeping unit \n",
    "5. alt_sku: alternate stock keeping unit \n",
    "6. Description: description of the product \n",
    "7. Status: Whether it is instock or not \n",
    "8. Quantity: Quantity available \n",
    "9. Price: Price of the product \n",
    "10. sku_create_date: when was the product procured.\n",
    "\n",
    "Link to dataset: https://drive.google.com/file/d/1NBW5XiZHaiSK8W31268MEsIWb5RS-LsK/view?usp=sharing\n"
   ],
   "cell_type": "markdown",
   "metadata": {}
  },
  {
   "source": [
    "\n",
    "## Solve these problems based on the data set given:\n",
    "\n",
    "For data In Stock: \n",
    "\n",
    "1. Which are the top Manufacturers with price, quantity?\n",
    "2. Which are the most profitable products? \n",
    "3. Which is the product where you have seen a decrease in the price? \n",
    "4. Which is the product where you have seen an increase in the price? \n",
    "5. Which is the top category by price and quantity? \n",
    "6. Which products are aging? \n",
    "7. How to Decrease Product aging? \n",
    "\n",
    "For Data Not in Stock \n",
    "\n",
    "8. Which are the top Manufacturers with price, quantity? \n",
    "9. Which are the most profitable products? \n",
    "10. Which is the product where you have seen a decrease in the price? \n",
    "11. Which is the product where you have seen an increase in the price? \n",
    "12. Which is the top category by price and quantity?\n"
   ],
   "cell_type": "markdown",
   "metadata": {}
  },
  {
   "source": [
    "## Importing Libraries"
   ],
   "cell_type": "markdown",
   "metadata": {}
  },
  {
   "cell_type": "code",
   "execution_count": 1,
   "metadata": {},
   "outputs": [],
   "source": [
    "import pandas as pd\n",
    "import numpy as np"
   ]
  },
  {
   "source": [
    "## Loading Data\n",
    "Getting data through read_excel as dictionary and then, concatenating it to form a single DataFrame"
   ],
   "cell_type": "markdown",
   "metadata": {}
  },
  {
   "cell_type": "code",
   "execution_count": 2,
   "metadata": {},
   "outputs": [],
   "source": [
    "df = pd.concat(pd.read_excel(\"imus.xlsx\",sheet_name = None), ignore_index=True)"
   ]
  },
  {
   "source": [
    "## Checking for Missing Values and Dropping Columns"
   ],
   "cell_type": "markdown",
   "metadata": {}
  },
  {
   "cell_type": "code",
   "execution_count": 3,
   "metadata": {},
   "outputs": [
    {
     "output_type": "execute_result",
     "data": {
      "text/plain": [
       "category                 0\n",
       "manufacturer             0\n",
       "part_number              0\n",
       "sku                      0\n",
       "alt_sku            2613442\n",
       "description              0\n",
       "status                   0\n",
       "qty                      0\n",
       "price                    0\n",
       "sku_create_date          0\n",
       "dtype: int64"
      ]
     },
     "metadata": {},
     "execution_count": 3
    }
   ],
   "source": [
    "df.isnull().sum()"
   ]
  },
  {
   "cell_type": "code",
   "execution_count": 4,
   "metadata": {},
   "outputs": [
    {
     "output_type": "stream",
     "name": "stdout",
     "text": [
      "99.448842927845\n"
     ]
    }
   ],
   "source": [
    "print((df['alt_sku'].isnull().sum()/len(df['alt_sku']))*100)"
   ]
  },
  {
   "source": [
    "#### Since, more than 99% values are missing in alt_sku column, we can drop it from our data as it is not useful for any analysis."
   ],
   "cell_type": "markdown",
   "metadata": {}
  },
  {
   "cell_type": "code",
   "execution_count": 5,
   "metadata": {},
   "outputs": [],
   "source": [
    "df = df.drop(columns = ['alt_sku'])"
   ]
  },
  {
   "source": [
    "## Checking data types "
   ],
   "cell_type": "markdown",
   "metadata": {}
  },
  {
   "cell_type": "code",
   "execution_count": 6,
   "metadata": {},
   "outputs": [
    {
     "output_type": "stream",
     "name": "stdout",
     "text": [
      "<class 'pandas.core.frame.DataFrame'>\nRangeIndex: 2627926 entries, 0 to 2627925\nData columns (total 9 columns):\ncategory           int64\nmanufacturer       object\npart_number        object\nsku                object\ndescription        object\nstatus             object\nqty                int64\nprice              float64\nsku_create_date    datetime64[ns]\ndtypes: datetime64[ns](1), float64(1), int64(2), object(5)\nmemory usage: 180.4+ MB\n"
     ]
    }
   ],
   "source": [
    "df.info()"
   ]
  },
  {
   "source": [
    "#### DataType of all columns is correctly identified by Python "
   ],
   "cell_type": "markdown",
   "metadata": {}
  },
  {
   "cell_type": "code",
   "execution_count": 7,
   "metadata": {},
   "outputs": [
    {
     "output_type": "execute_result",
     "data": {
      "text/plain": [
       "           category           qty         price\n",
       "count  2.627926e+06  2.627926e+06  2.627926e+06\n",
       "mean   2.379739e+03  4.138502e+01  1.882534e+03\n",
       "std    2.776633e+03  5.802069e+02  8.202102e+04\n",
       "min    1.000000e+00  0.000000e+00  0.000000e+00\n",
       "25%    7.010000e+02  0.000000e+00  2.108000e+01\n",
       "50%    1.535000e+03  0.000000e+00  9.531000e+01\n",
       "75%    2.240000e+03  2.000000e+00  4.998400e+02\n",
       "max    9.999000e+03  6.006300e+04  8.497453e+07"
      ],
      "text/html": "<div>\n<style scoped>\n    .dataframe tbody tr th:only-of-type {\n        vertical-align: middle;\n    }\n\n    .dataframe tbody tr th {\n        vertical-align: top;\n    }\n\n    .dataframe thead th {\n        text-align: right;\n    }\n</style>\n<table border=\"1\" class=\"dataframe\">\n  <thead>\n    <tr style=\"text-align: right;\">\n      <th></th>\n      <th>category</th>\n      <th>qty</th>\n      <th>price</th>\n    </tr>\n  </thead>\n  <tbody>\n    <tr>\n      <th>count</th>\n      <td>2.627926e+06</td>\n      <td>2.627926e+06</td>\n      <td>2.627926e+06</td>\n    </tr>\n    <tr>\n      <th>mean</th>\n      <td>2.379739e+03</td>\n      <td>4.138502e+01</td>\n      <td>1.882534e+03</td>\n    </tr>\n    <tr>\n      <th>std</th>\n      <td>2.776633e+03</td>\n      <td>5.802069e+02</td>\n      <td>8.202102e+04</td>\n    </tr>\n    <tr>\n      <th>min</th>\n      <td>1.000000e+00</td>\n      <td>0.000000e+00</td>\n      <td>0.000000e+00</td>\n    </tr>\n    <tr>\n      <th>25%</th>\n      <td>7.010000e+02</td>\n      <td>0.000000e+00</td>\n      <td>2.108000e+01</td>\n    </tr>\n    <tr>\n      <th>50%</th>\n      <td>1.535000e+03</td>\n      <td>0.000000e+00</td>\n      <td>9.531000e+01</td>\n    </tr>\n    <tr>\n      <th>75%</th>\n      <td>2.240000e+03</td>\n      <td>2.000000e+00</td>\n      <td>4.998400e+02</td>\n    </tr>\n    <tr>\n      <th>max</th>\n      <td>9.999000e+03</td>\n      <td>6.006300e+04</td>\n      <td>8.497453e+07</td>\n    </tr>\n  </tbody>\n</table>\n</div>"
     },
     "metadata": {},
     "execution_count": 7
    }
   ],
   "source": [
    "df.describe() #Only for int,float data"
   ]
  },
  {
   "cell_type": "code",
   "execution_count": 8,
   "metadata": {},
   "outputs": [
    {
     "output_type": "execute_result",
     "data": {
      "text/plain": [
       "(2627926, 9)"
      ]
     },
     "metadata": {},
     "execution_count": 8
    }
   ],
   "source": [
    "df.shape"
   ]
  },
  {
   "cell_type": "code",
   "execution_count": 9,
   "metadata": {},
   "outputs": [
    {
     "output_type": "execute_result",
     "data": {
      "text/plain": [
       "category              153\n",
       "manufacturer         1484\n",
       "part_number        334574\n",
       "sku                379112\n",
       "description        339222\n",
       "status                  2\n",
       "qty                  2618\n",
       "price              122688\n",
       "sku_create_date        10\n",
       "dtype: int64"
      ]
     },
     "metadata": {},
     "execution_count": 9
    }
   ],
   "source": [
    "df.nunique()"
   ]
  },
  {
   "source": [
    "## Checking for duplicates and Deleting them"
   ],
   "cell_type": "markdown",
   "metadata": {}
  },
  {
   "cell_type": "code",
   "execution_count": 10,
   "metadata": {},
   "outputs": [
    {
     "output_type": "execute_result",
     "data": {
      "text/plain": [
       "    category manufacturer part_number     sku  \\\n",
       "70      1022     FELLOWES       52045  BA5888   \n",
       "71      1022     FELLOWES       52045  BA5888   \n",
       "72      1022     FELLOWES       52045  BA5888   \n",
       "73      1022     FELLOWES       52045  BA5888   \n",
       "74      1022     FELLOWES       52045  BA5888   \n",
       "75      1022     FELLOWES       52045  BA5888   \n",
       "76      1022     FELLOWES       52045  BA5888   \n",
       "77      1022     FELLOWES       52045  BA5888   \n",
       "78      1022     FELLOWES       52045  BA5888   \n",
       "79      1022     FELLOWES       52045  BA5888   \n",
       "\n",
       "                             description    status  qty  price sku_create_date  \n",
       "70  100PK LAMINATING POUCHES LEGAL, 5MIL  No Stock    0  44.75      2020-08-17  \n",
       "71  100PK LAMINATING POUCHES LEGAL, 5MIL  No Stock    0  44.75      2020-08-17  \n",
       "72  100PK LAMINATING POUCHES LEGAL, 5MIL  No Stock    0  44.75      2020-08-17  \n",
       "73  100PK LAMINATING POUCHES LEGAL, 5MIL  No Stock    0  44.75      2020-08-17  \n",
       "74  100PK LAMINATING POUCHES LEGAL, 5MIL  No Stock    0  44.75      2020-08-17  \n",
       "75  100PK LAMINATING POUCHES LEGAL, 5MIL  No Stock    0  44.75      2020-08-17  \n",
       "76  100PK LAMINATING POUCHES LEGAL, 5MIL  No Stock    0  44.75      2020-08-17  \n",
       "77  100PK LAMINATING POUCHES LEGAL, 5MIL  No Stock    0  44.75      2020-08-17  \n",
       "78  100PK LAMINATING POUCHES LEGAL, 5MIL  No Stock    0  44.75      2020-08-17  \n",
       "79  100PK LAMINATING POUCHES LEGAL, 5MIL  No Stock    0  44.75      2020-08-17  "
      ],
      "text/html": "<div>\n<style scoped>\n    .dataframe tbody tr th:only-of-type {\n        vertical-align: middle;\n    }\n\n    .dataframe tbody tr th {\n        vertical-align: top;\n    }\n\n    .dataframe thead th {\n        text-align: right;\n    }\n</style>\n<table border=\"1\" class=\"dataframe\">\n  <thead>\n    <tr style=\"text-align: right;\">\n      <th></th>\n      <th>category</th>\n      <th>manufacturer</th>\n      <th>part_number</th>\n      <th>sku</th>\n      <th>description</th>\n      <th>status</th>\n      <th>qty</th>\n      <th>price</th>\n      <th>sku_create_date</th>\n    </tr>\n  </thead>\n  <tbody>\n    <tr>\n      <th>70</th>\n      <td>1022</td>\n      <td>FELLOWES</td>\n      <td>52045</td>\n      <td>BA5888</td>\n      <td>100PK LAMINATING POUCHES LEGAL, 5MIL</td>\n      <td>No Stock</td>\n      <td>0</td>\n      <td>44.75</td>\n      <td>2020-08-17</td>\n    </tr>\n    <tr>\n      <th>71</th>\n      <td>1022</td>\n      <td>FELLOWES</td>\n      <td>52045</td>\n      <td>BA5888</td>\n      <td>100PK LAMINATING POUCHES LEGAL, 5MIL</td>\n      <td>No Stock</td>\n      <td>0</td>\n      <td>44.75</td>\n      <td>2020-08-17</td>\n    </tr>\n    <tr>\n      <th>72</th>\n      <td>1022</td>\n      <td>FELLOWES</td>\n      <td>52045</td>\n      <td>BA5888</td>\n      <td>100PK LAMINATING POUCHES LEGAL, 5MIL</td>\n      <td>No Stock</td>\n      <td>0</td>\n      <td>44.75</td>\n      <td>2020-08-17</td>\n    </tr>\n    <tr>\n      <th>73</th>\n      <td>1022</td>\n      <td>FELLOWES</td>\n      <td>52045</td>\n      <td>BA5888</td>\n      <td>100PK LAMINATING POUCHES LEGAL, 5MIL</td>\n      <td>No Stock</td>\n      <td>0</td>\n      <td>44.75</td>\n      <td>2020-08-17</td>\n    </tr>\n    <tr>\n      <th>74</th>\n      <td>1022</td>\n      <td>FELLOWES</td>\n      <td>52045</td>\n      <td>BA5888</td>\n      <td>100PK LAMINATING POUCHES LEGAL, 5MIL</td>\n      <td>No Stock</td>\n      <td>0</td>\n      <td>44.75</td>\n      <td>2020-08-17</td>\n    </tr>\n    <tr>\n      <th>75</th>\n      <td>1022</td>\n      <td>FELLOWES</td>\n      <td>52045</td>\n      <td>BA5888</td>\n      <td>100PK LAMINATING POUCHES LEGAL, 5MIL</td>\n      <td>No Stock</td>\n      <td>0</td>\n      <td>44.75</td>\n      <td>2020-08-17</td>\n    </tr>\n    <tr>\n      <th>76</th>\n      <td>1022</td>\n      <td>FELLOWES</td>\n      <td>52045</td>\n      <td>BA5888</td>\n      <td>100PK LAMINATING POUCHES LEGAL, 5MIL</td>\n      <td>No Stock</td>\n      <td>0</td>\n      <td>44.75</td>\n      <td>2020-08-17</td>\n    </tr>\n    <tr>\n      <th>77</th>\n      <td>1022</td>\n      <td>FELLOWES</td>\n      <td>52045</td>\n      <td>BA5888</td>\n      <td>100PK LAMINATING POUCHES LEGAL, 5MIL</td>\n      <td>No Stock</td>\n      <td>0</td>\n      <td>44.75</td>\n      <td>2020-08-17</td>\n    </tr>\n    <tr>\n      <th>78</th>\n      <td>1022</td>\n      <td>FELLOWES</td>\n      <td>52045</td>\n      <td>BA5888</td>\n      <td>100PK LAMINATING POUCHES LEGAL, 5MIL</td>\n      <td>No Stock</td>\n      <td>0</td>\n      <td>44.75</td>\n      <td>2020-08-17</td>\n    </tr>\n    <tr>\n      <th>79</th>\n      <td>1022</td>\n      <td>FELLOWES</td>\n      <td>52045</td>\n      <td>BA5888</td>\n      <td>100PK LAMINATING POUCHES LEGAL, 5MIL</td>\n      <td>No Stock</td>\n      <td>0</td>\n      <td>44.75</td>\n      <td>2020-08-17</td>\n    </tr>\n  </tbody>\n</table>\n</div>"
     },
     "metadata": {},
     "execution_count": 10
    }
   ],
   "source": [
    "duplicates = df[df.duplicated()]\n",
    "duplicates.head(10)"
   ]
  },
  {
   "cell_type": "code",
   "execution_count": 11,
   "metadata": {},
   "outputs": [
    {
     "output_type": "execute_result",
     "data": {
      "text/plain": [
       "(1521956, 9)"
      ]
     },
     "metadata": {},
     "execution_count": 11
    }
   ],
   "source": [
    "duplicates.shape"
   ]
  },
  {
   "cell_type": "code",
   "execution_count": 12,
   "metadata": {},
   "outputs": [
    {
     "output_type": "execute_result",
     "data": {
      "text/plain": [
       "(2627926, 9)"
      ]
     },
     "metadata": {},
     "execution_count": 12
    }
   ],
   "source": [
    "df.shape"
   ]
  },
  {
   "cell_type": "code",
   "execution_count": 13,
   "metadata": {},
   "outputs": [
    {
     "output_type": "execute_result",
     "data": {
      "text/plain": [
       "   category                manufacturer part_number     sku  \\\n",
       "0      1539  MS-OPEN VALUE SUBSCRIPTION   021-09108  BA0011   \n",
       "1      1539  MS-OPEN VALUE SUBSCRIPTION   059-07014  BA0025   \n",
       "2      1539  MS-OPEN VALUE SUBSCRIPTION   065-06444  BA0039   \n",
       "3      1539  MS-OPEN VALUE SUBSCRIPTION   076-04355  BA0067   \n",
       "4      1582  MS-OPEN VALUE SUBSCRIPTION   077-05318  BA0080   \n",
       "\n",
       "                            description    status  qty   price sku_create_date  \n",
       "0  1YR OFFICESTD ALNG LICSAPK OLV, D AP  No Stock    0  143.58      2020-08-17  \n",
       "1       1YR WORD ALNG LICSAPK OLV D AP,  No Stock    0   56.09      2020-08-17  \n",
       "2      1YR EXCEL ALNG LICSAPK OLV D AP,  No Stock    0   56.09      2020-08-17  \n",
       "3      1YR PRJCT ALNG LICSAPK OLV D AP,  No Stock    0  217.60      2020-08-17  \n",
       "4     1YR ACCESS ALNG LICSAPK OLV D, AP  No Stock    0   56.09      2020-08-17  "
      ],
      "text/html": "<div>\n<style scoped>\n    .dataframe tbody tr th:only-of-type {\n        vertical-align: middle;\n    }\n\n    .dataframe tbody tr th {\n        vertical-align: top;\n    }\n\n    .dataframe thead th {\n        text-align: right;\n    }\n</style>\n<table border=\"1\" class=\"dataframe\">\n  <thead>\n    <tr style=\"text-align: right;\">\n      <th></th>\n      <th>category</th>\n      <th>manufacturer</th>\n      <th>part_number</th>\n      <th>sku</th>\n      <th>description</th>\n      <th>status</th>\n      <th>qty</th>\n      <th>price</th>\n      <th>sku_create_date</th>\n    </tr>\n  </thead>\n  <tbody>\n    <tr>\n      <th>0</th>\n      <td>1539</td>\n      <td>MS-OPEN VALUE SUBSCRIPTION</td>\n      <td>021-09108</td>\n      <td>BA0011</td>\n      <td>1YR OFFICESTD ALNG LICSAPK OLV, D AP</td>\n      <td>No Stock</td>\n      <td>0</td>\n      <td>143.58</td>\n      <td>2020-08-17</td>\n    </tr>\n    <tr>\n      <th>1</th>\n      <td>1539</td>\n      <td>MS-OPEN VALUE SUBSCRIPTION</td>\n      <td>059-07014</td>\n      <td>BA0025</td>\n      <td>1YR WORD ALNG LICSAPK OLV D AP,</td>\n      <td>No Stock</td>\n      <td>0</td>\n      <td>56.09</td>\n      <td>2020-08-17</td>\n    </tr>\n    <tr>\n      <th>2</th>\n      <td>1539</td>\n      <td>MS-OPEN VALUE SUBSCRIPTION</td>\n      <td>065-06444</td>\n      <td>BA0039</td>\n      <td>1YR EXCEL ALNG LICSAPK OLV D AP,</td>\n      <td>No Stock</td>\n      <td>0</td>\n      <td>56.09</td>\n      <td>2020-08-17</td>\n    </tr>\n    <tr>\n      <th>3</th>\n      <td>1539</td>\n      <td>MS-OPEN VALUE SUBSCRIPTION</td>\n      <td>076-04355</td>\n      <td>BA0067</td>\n      <td>1YR PRJCT ALNG LICSAPK OLV D AP,</td>\n      <td>No Stock</td>\n      <td>0</td>\n      <td>217.60</td>\n      <td>2020-08-17</td>\n    </tr>\n    <tr>\n      <th>4</th>\n      <td>1582</td>\n      <td>MS-OPEN VALUE SUBSCRIPTION</td>\n      <td>077-05318</td>\n      <td>BA0080</td>\n      <td>1YR ACCESS ALNG LICSAPK OLV D, AP</td>\n      <td>No Stock</td>\n      <td>0</td>\n      <td>56.09</td>\n      <td>2020-08-17</td>\n    </tr>\n  </tbody>\n</table>\n</div>"
     },
     "metadata": {},
     "execution_count": 13
    }
   ],
   "source": [
    "df.drop_duplicates(inplace=True)\n",
    "df.head()"
   ]
  },
  {
   "cell_type": "code",
   "execution_count": 14,
   "metadata": {},
   "outputs": [
    {
     "output_type": "execute_result",
     "data": {
      "text/plain": [
       "(1105970, 9)"
      ]
     },
     "metadata": {},
     "execution_count": 14
    }
   ],
   "source": [
    "df.shape"
   ]
  },
  {
   "cell_type": "code",
   "execution_count": 15,
   "metadata": {},
   "outputs": [
    {
     "output_type": "execute_result",
     "data": {
      "text/plain": [
       "Empty DataFrame\n",
       "Columns: [category, manufacturer, part_number, sku, description, status, qty, price, sku_create_date]\n",
       "Index: []"
      ],
      "text/html": "<div>\n<style scoped>\n    .dataframe tbody tr th:only-of-type {\n        vertical-align: middle;\n    }\n\n    .dataframe tbody tr th {\n        vertical-align: top;\n    }\n\n    .dataframe thead th {\n        text-align: right;\n    }\n</style>\n<table border=\"1\" class=\"dataframe\">\n  <thead>\n    <tr style=\"text-align: right;\">\n      <th></th>\n      <th>category</th>\n      <th>manufacturer</th>\n      <th>part_number</th>\n      <th>sku</th>\n      <th>description</th>\n      <th>status</th>\n      <th>qty</th>\n      <th>price</th>\n      <th>sku_create_date</th>\n    </tr>\n  </thead>\n  <tbody>\n  </tbody>\n</table>\n</div>"
     },
     "metadata": {},
     "execution_count": 15
    }
   ],
   "source": [
    "df[df.duplicated()]"
   ]
  },
  {
   "cell_type": "code",
   "execution_count": 16,
   "metadata": {},
   "outputs": [
    {
     "output_type": "execute_result",
     "data": {
      "text/plain": [
       "           category           qty         price\n",
       "count  1.105970e+06  1.105970e+06  1.105970e+06\n",
       "mean   2.076317e+03  3.901325e+01  3.669533e+03\n",
       "std    2.453089e+03  8.440172e+02  1.263401e+05\n",
       "min    1.000000e+00  0.000000e+00  0.000000e+00\n",
       "25%    1.221000e+03  0.000000e+00  3.441000e+01\n",
       "50%    1.221000e+03  0.000000e+00  1.984500e+02\n",
       "75%    2.220000e+03  0.000000e+00  1.011120e+03\n",
       "max    9.999000e+03  6.006300e+04  8.497453e+07"
      ],
      "text/html": "<div>\n<style scoped>\n    .dataframe tbody tr th:only-of-type {\n        vertical-align: middle;\n    }\n\n    .dataframe tbody tr th {\n        vertical-align: top;\n    }\n\n    .dataframe thead th {\n        text-align: right;\n    }\n</style>\n<table border=\"1\" class=\"dataframe\">\n  <thead>\n    <tr style=\"text-align: right;\">\n      <th></th>\n      <th>category</th>\n      <th>qty</th>\n      <th>price</th>\n    </tr>\n  </thead>\n  <tbody>\n    <tr>\n      <th>count</th>\n      <td>1.105970e+06</td>\n      <td>1.105970e+06</td>\n      <td>1.105970e+06</td>\n    </tr>\n    <tr>\n      <th>mean</th>\n      <td>2.076317e+03</td>\n      <td>3.901325e+01</td>\n      <td>3.669533e+03</td>\n    </tr>\n    <tr>\n      <th>std</th>\n      <td>2.453089e+03</td>\n      <td>8.440172e+02</td>\n      <td>1.263401e+05</td>\n    </tr>\n    <tr>\n      <th>min</th>\n      <td>1.000000e+00</td>\n      <td>0.000000e+00</td>\n      <td>0.000000e+00</td>\n    </tr>\n    <tr>\n      <th>25%</th>\n      <td>1.221000e+03</td>\n      <td>0.000000e+00</td>\n      <td>3.441000e+01</td>\n    </tr>\n    <tr>\n      <th>50%</th>\n      <td>1.221000e+03</td>\n      <td>0.000000e+00</td>\n      <td>1.984500e+02</td>\n    </tr>\n    <tr>\n      <th>75%</th>\n      <td>2.220000e+03</td>\n      <td>0.000000e+00</td>\n      <td>1.011120e+03</td>\n    </tr>\n    <tr>\n      <th>max</th>\n      <td>9.999000e+03</td>\n      <td>6.006300e+04</td>\n      <td>8.497453e+07</td>\n    </tr>\n  </tbody>\n</table>\n</div>"
     },
     "metadata": {},
     "execution_count": 16
    }
   ],
   "source": [
    "df.describe()"
   ]
  },
  {
   "source": [
    "## Adding a column 'Revenue' which will be used for questions"
   ],
   "cell_type": "markdown",
   "metadata": {}
  },
  {
   "cell_type": "code",
   "execution_count": 17,
   "metadata": {},
   "outputs": [],
   "source": [
    "df['Revenue'] = df['qty'] * df['price']"
   ]
  },
  {
   "source": [
    "### This is how dataset looks like"
   ],
   "cell_type": "markdown",
   "metadata": {}
  },
  {
   "cell_type": "code",
   "execution_count": 18,
   "metadata": {},
   "outputs": [
    {
     "output_type": "execute_result",
     "data": {
      "text/plain": [
       "         category          manufacturer    part_number     sku  \\\n",
       "2627895      2240       BELKIN - CABLES  A3X126-10-RED  972494   \n",
       "2627903      2240       BELKIN - CABLES  A3X126-10-RED  972494   \n",
       "2627912      9945  VERBATIM CORPORATION          93975  986034   \n",
       "2627913      9945  VERBATIM CORPORATION          93975  986034   \n",
       "\n",
       "                                               description    status  qty  \\\n",
       "2627895               10FT CAT5E RED CROSSOVER CABLE, ROHS  In Stock    2   \n",
       "2627903               10FT CAT5E RED CROSSOVER CABLE, ROHS  In Stock    2   \n",
       "2627912  CD & DVD TRIMPAK CASES 200PK, CLEAR FLEXIBLE P...  In Stock   12   \n",
       "2627913  CD & DVD TRIMPAK CASES 200PK, CLEAR FLEXIBLE P...  In Stock   12   \n",
       "\n",
       "         price sku_create_date  Revenue  \n",
       "2627895   3.77      2020-08-28     7.54  \n",
       "2627903   3.50      2020-08-28     7.00  \n",
       "2627912  51.88      2020-08-28   622.56  \n",
       "2627913  50.53      2020-08-28   606.36  "
      ],
      "text/html": "<div>\n<style scoped>\n    .dataframe tbody tr th:only-of-type {\n        vertical-align: middle;\n    }\n\n    .dataframe tbody tr th {\n        vertical-align: top;\n    }\n\n    .dataframe thead th {\n        text-align: right;\n    }\n</style>\n<table border=\"1\" class=\"dataframe\">\n  <thead>\n    <tr style=\"text-align: right;\">\n      <th></th>\n      <th>category</th>\n      <th>manufacturer</th>\n      <th>part_number</th>\n      <th>sku</th>\n      <th>description</th>\n      <th>status</th>\n      <th>qty</th>\n      <th>price</th>\n      <th>sku_create_date</th>\n      <th>Revenue</th>\n    </tr>\n  </thead>\n  <tbody>\n    <tr>\n      <th>2627895</th>\n      <td>2240</td>\n      <td>BELKIN - CABLES</td>\n      <td>A3X126-10-RED</td>\n      <td>972494</td>\n      <td>10FT CAT5E RED CROSSOVER CABLE, ROHS</td>\n      <td>In Stock</td>\n      <td>2</td>\n      <td>3.77</td>\n      <td>2020-08-28</td>\n      <td>7.54</td>\n    </tr>\n    <tr>\n      <th>2627903</th>\n      <td>2240</td>\n      <td>BELKIN - CABLES</td>\n      <td>A3X126-10-RED</td>\n      <td>972494</td>\n      <td>10FT CAT5E RED CROSSOVER CABLE, ROHS</td>\n      <td>In Stock</td>\n      <td>2</td>\n      <td>3.50</td>\n      <td>2020-08-28</td>\n      <td>7.00</td>\n    </tr>\n    <tr>\n      <th>2627912</th>\n      <td>9945</td>\n      <td>VERBATIM CORPORATION</td>\n      <td>93975</td>\n      <td>986034</td>\n      <td>CD &amp; DVD TRIMPAK CASES 200PK, CLEAR FLEXIBLE P...</td>\n      <td>In Stock</td>\n      <td>12</td>\n      <td>51.88</td>\n      <td>2020-08-28</td>\n      <td>622.56</td>\n    </tr>\n    <tr>\n      <th>2627913</th>\n      <td>9945</td>\n      <td>VERBATIM CORPORATION</td>\n      <td>93975</td>\n      <td>986034</td>\n      <td>CD &amp; DVD TRIMPAK CASES 200PK, CLEAR FLEXIBLE P...</td>\n      <td>In Stock</td>\n      <td>12</td>\n      <td>50.53</td>\n      <td>2020-08-28</td>\n      <td>606.36</td>\n    </tr>\n  </tbody>\n</table>\n</div>"
     },
     "metadata": {},
     "execution_count": 18
    }
   ],
   "source": [
    "df.tail(4)"
   ]
  },
  {
   "source": [
    "## Dividing data into InStock and OutStock"
   ],
   "cell_type": "markdown",
   "metadata": {}
  },
  {
   "cell_type": "code",
   "execution_count": 19,
   "metadata": {},
   "outputs": [],
   "source": [
    "instock_df = df[df['status']=='In Stock']\n",
    "outstock_df = df[df['status']=='No Stock']"
   ]
  },
  {
   "cell_type": "code",
   "execution_count": 20,
   "metadata": {},
   "outputs": [
    {
     "output_type": "execute_result",
     "data": {
      "text/plain": [
       "     category                    manufacturer         part_number     sku  \\\n",
       "253      9920  CASE LOGIC-PERSONAL & PORTABLE             3200943  BA6371   \n",
       "271       531                OMNITRON SYSTEMS              7206-0  BA6834   \n",
       "320      9070         ZEBRA ENTERPRISE MCD-A1       SAC5070-800CR  BC0227   \n",
       "324      9080         ZEBRA ENTERPRISE MCD-A1  KT-CLMPT-RS507-01R  BC0232   \n",
       "326      9080         ZEBRA ENTERPRISE MCD-A1    KT-PAD-RS507-10R  BC0234   \n",
       "\n",
       "                                           description    status  qty   price  \\\n",
       "253  LAPTOP ROLLING CASE BLACK, SECURITY FRIENDLY 17IN  In Stock    7   99.00   \n",
       "271  1000BASE-SX SFP LC/MM/DF 850NM, 550M PLUGGABLE...  In Stock    2   59.09   \n",
       "320  RS507 8SLOT BATTERY CHARGE KIT, EXT PWR SUPL/U...  In Stock    3  500.06   \n",
       "324  RS507 TRIGGER SWIVEL DOES NOT, INCLUDE STRAP/B...  In Stock  115   86.34   \n",
       "326                      10 CT COMFORT PADS FOR RS507,  In Stock   42   51.80   \n",
       "\n",
       "    sku_create_date  Revenue  \n",
       "253      2020-08-17   693.00  \n",
       "271      2020-08-17   118.18  \n",
       "320      2020-08-17  1500.18  \n",
       "324      2020-08-17  9929.10  \n",
       "326      2020-08-17  2175.60  "
      ],
      "text/html": "<div>\n<style scoped>\n    .dataframe tbody tr th:only-of-type {\n        vertical-align: middle;\n    }\n\n    .dataframe tbody tr th {\n        vertical-align: top;\n    }\n\n    .dataframe thead th {\n        text-align: right;\n    }\n</style>\n<table border=\"1\" class=\"dataframe\">\n  <thead>\n    <tr style=\"text-align: right;\">\n      <th></th>\n      <th>category</th>\n      <th>manufacturer</th>\n      <th>part_number</th>\n      <th>sku</th>\n      <th>description</th>\n      <th>status</th>\n      <th>qty</th>\n      <th>price</th>\n      <th>sku_create_date</th>\n      <th>Revenue</th>\n    </tr>\n  </thead>\n  <tbody>\n    <tr>\n      <th>253</th>\n      <td>9920</td>\n      <td>CASE LOGIC-PERSONAL &amp; PORTABLE</td>\n      <td>3200943</td>\n      <td>BA6371</td>\n      <td>LAPTOP ROLLING CASE BLACK, SECURITY FRIENDLY 17IN</td>\n      <td>In Stock</td>\n      <td>7</td>\n      <td>99.00</td>\n      <td>2020-08-17</td>\n      <td>693.00</td>\n    </tr>\n    <tr>\n      <th>271</th>\n      <td>531</td>\n      <td>OMNITRON SYSTEMS</td>\n      <td>7206-0</td>\n      <td>BA6834</td>\n      <td>1000BASE-SX SFP LC/MM/DF 850NM, 550M PLUGGABLE...</td>\n      <td>In Stock</td>\n      <td>2</td>\n      <td>59.09</td>\n      <td>2020-08-17</td>\n      <td>118.18</td>\n    </tr>\n    <tr>\n      <th>320</th>\n      <td>9070</td>\n      <td>ZEBRA ENTERPRISE MCD-A1</td>\n      <td>SAC5070-800CR</td>\n      <td>BC0227</td>\n      <td>RS507 8SLOT BATTERY CHARGE KIT, EXT PWR SUPL/U...</td>\n      <td>In Stock</td>\n      <td>3</td>\n      <td>500.06</td>\n      <td>2020-08-17</td>\n      <td>1500.18</td>\n    </tr>\n    <tr>\n      <th>324</th>\n      <td>9080</td>\n      <td>ZEBRA ENTERPRISE MCD-A1</td>\n      <td>KT-CLMPT-RS507-01R</td>\n      <td>BC0232</td>\n      <td>RS507 TRIGGER SWIVEL DOES NOT, INCLUDE STRAP/B...</td>\n      <td>In Stock</td>\n      <td>115</td>\n      <td>86.34</td>\n      <td>2020-08-17</td>\n      <td>9929.10</td>\n    </tr>\n    <tr>\n      <th>326</th>\n      <td>9080</td>\n      <td>ZEBRA ENTERPRISE MCD-A1</td>\n      <td>KT-PAD-RS507-10R</td>\n      <td>BC0234</td>\n      <td>10 CT COMFORT PADS FOR RS507,</td>\n      <td>In Stock</td>\n      <td>42</td>\n      <td>51.80</td>\n      <td>2020-08-17</td>\n      <td>2175.60</td>\n    </tr>\n  </tbody>\n</table>\n</div>"
     },
     "metadata": {},
     "execution_count": 20
    }
   ],
   "source": [
    "instock_df.head()"
   ]
  },
  {
   "cell_type": "code",
   "execution_count": 21,
   "metadata": {},
   "outputs": [
    {
     "output_type": "stream",
     "name": "stdout",
     "text": [
      "Shape of Instock : (156814, 10)\nShape of OutStock : (949156, 10)\n"
     ]
    }
   ],
   "source": [
    "print(f'Shape of Instock : {instock_df.shape}')\n",
    "print(f'Shape of OutStock : {outstock_df.shape}')"
   ]
  },
  {
   "source": [
    "# <center> ANALYSIS FOR IN STOCK </center>\n",
    "### Question 1: Which are the top Manufacturers with price, quantity?\n",
    "Assuming top manufacturers are the ones which produce highest quantities of goods. <br> <br>"
   ],
   "cell_type": "markdown",
   "metadata": {}
  },
  {
   "cell_type": "code",
   "execution_count": 22,
   "metadata": {},
   "outputs": [
    {
     "output_type": "stream",
     "name": "stdout",
     "text": [
      "The Top 10 manufacturers based on quantity produced (irrespective of description) are :\n"
     ]
    },
    {
     "output_type": "execute_result",
     "data": {
      "text/plain": [
       "                        manufacturer       qty\n",
       "181      DELL CSG SERVICE WARRANTIES  13578833\n",
       "147                         CONFIG 6   3825896\n",
       "184              DELL ESG WARRANTIES   3149689\n",
       "620                     STARTECH.COM   1884895\n",
       "650          TRIPP LITE CONNECTIVITY   1590370\n",
       "433  LOGITECH - COMPUTER ACCESSORIES    972244\n",
       "515                  PLANTRONICS INC    957135\n",
       "290    HP INC. - SB DESKTOP DISPLAYS    905072\n",
       "709                    WASP -PROJECT    689931\n",
       "79                   BELKIN - CABLES    578216"
      ],
      "text/html": "<div>\n<style scoped>\n    .dataframe tbody tr th:only-of-type {\n        vertical-align: middle;\n    }\n\n    .dataframe tbody tr th {\n        vertical-align: top;\n    }\n\n    .dataframe thead th {\n        text-align: right;\n    }\n</style>\n<table border=\"1\" class=\"dataframe\">\n  <thead>\n    <tr style=\"text-align: right;\">\n      <th></th>\n      <th>manufacturer</th>\n      <th>qty</th>\n    </tr>\n  </thead>\n  <tbody>\n    <tr>\n      <th>181</th>\n      <td>DELL CSG SERVICE WARRANTIES</td>\n      <td>13578833</td>\n    </tr>\n    <tr>\n      <th>147</th>\n      <td>CONFIG 6</td>\n      <td>3825896</td>\n    </tr>\n    <tr>\n      <th>184</th>\n      <td>DELL ESG WARRANTIES</td>\n      <td>3149689</td>\n    </tr>\n    <tr>\n      <th>620</th>\n      <td>STARTECH.COM</td>\n      <td>1884895</td>\n    </tr>\n    <tr>\n      <th>650</th>\n      <td>TRIPP LITE CONNECTIVITY</td>\n      <td>1590370</td>\n    </tr>\n    <tr>\n      <th>433</th>\n      <td>LOGITECH - COMPUTER ACCESSORIES</td>\n      <td>972244</td>\n    </tr>\n    <tr>\n      <th>515</th>\n      <td>PLANTRONICS INC</td>\n      <td>957135</td>\n    </tr>\n    <tr>\n      <th>290</th>\n      <td>HP INC. - SB DESKTOP DISPLAYS</td>\n      <td>905072</td>\n    </tr>\n    <tr>\n      <th>709</th>\n      <td>WASP -PROJECT</td>\n      <td>689931</td>\n    </tr>\n    <tr>\n      <th>79</th>\n      <td>BELKIN - CABLES</td>\n      <td>578216</td>\n    </tr>\n  </tbody>\n</table>\n</div>"
     },
     "metadata": {},
     "execution_count": 22
    }
   ],
   "source": [
    "print(\"The Top 10 manufacturers based on quantity produced (irrespective of description) are :\")\n",
    "instock_df.groupby(['manufacturer'],as_index=False)['qty'].sum().sort_values('qty',ascending=False).head(10)"
   ]
  },
  {
   "cell_type": "code",
   "execution_count": 23,
   "metadata": {},
   "outputs": [
    {
     "output_type": "stream",
     "name": "stdout",
     "text": [
      "The Top 10 manufacturers who sell products that have highest price are :\n"
     ]
    },
    {
     "output_type": "execute_result",
     "data": {
      "text/plain": [
       "                 manufacturer     price\n",
       "315           HPE - SWITCHING  69729.03\n",
       "311          HPE - NIMBLE BTO  40893.99\n",
       "303       HPE - ARUBA INSTANT  35554.13\n",
       "529              PULSE SECURE  23423.40\n",
       "444     MELLANOX TECHNOLOGIES  20144.08\n",
       "132           CISCO  HW VIDEO  17356.11\n",
       "243       FLUKE NETWORKS CORE  16999.12\n",
       "476          NETALLY HH TOOLS  15082.98\n",
       "316         HPE - TOP OF RACK  14558.86\n",
       "612  SONICWALL - NSA HARDWARE  13150.27"
      ],
      "text/html": "<div>\n<style scoped>\n    .dataframe tbody tr th:only-of-type {\n        vertical-align: middle;\n    }\n\n    .dataframe tbody tr th {\n        vertical-align: top;\n    }\n\n    .dataframe thead th {\n        text-align: right;\n    }\n</style>\n<table border=\"1\" class=\"dataframe\">\n  <thead>\n    <tr style=\"text-align: right;\">\n      <th></th>\n      <th>manufacturer</th>\n      <th>price</th>\n    </tr>\n  </thead>\n  <tbody>\n    <tr>\n      <th>315</th>\n      <td>HPE - SWITCHING</td>\n      <td>69729.03</td>\n    </tr>\n    <tr>\n      <th>311</th>\n      <td>HPE - NIMBLE BTO</td>\n      <td>40893.99</td>\n    </tr>\n    <tr>\n      <th>303</th>\n      <td>HPE - ARUBA INSTANT</td>\n      <td>35554.13</td>\n    </tr>\n    <tr>\n      <th>529</th>\n      <td>PULSE SECURE</td>\n      <td>23423.40</td>\n    </tr>\n    <tr>\n      <th>444</th>\n      <td>MELLANOX TECHNOLOGIES</td>\n      <td>20144.08</td>\n    </tr>\n    <tr>\n      <th>132</th>\n      <td>CISCO  HW VIDEO</td>\n      <td>17356.11</td>\n    </tr>\n    <tr>\n      <th>243</th>\n      <td>FLUKE NETWORKS CORE</td>\n      <td>16999.12</td>\n    </tr>\n    <tr>\n      <th>476</th>\n      <td>NETALLY HH TOOLS</td>\n      <td>15082.98</td>\n    </tr>\n    <tr>\n      <th>316</th>\n      <td>HPE - TOP OF RACK</td>\n      <td>14558.86</td>\n    </tr>\n    <tr>\n      <th>612</th>\n      <td>SONICWALL - NSA HARDWARE</td>\n      <td>13150.27</td>\n    </tr>\n  </tbody>\n</table>\n</div>"
     },
     "metadata": {},
     "execution_count": 23
    }
   ],
   "source": [
    "print(\"The Top 10 manufacturers who sell products that have highest price are :\")\n",
    "instock_df.groupby(['manufacturer'],as_index=False)['price'].max().sort_values('price',ascending=False).head(10)"
   ]
  },
  {
   "source": [
    "### Question 2: Which are the most profitable products? \n",
    "Assuming that the profitable products are the ones that generate maximum revenue.\n",
    "\n",
    "Revenue = Price * Sales"
   ],
   "cell_type": "markdown",
   "metadata": {}
  },
  {
   "cell_type": "code",
   "execution_count": 24,
   "metadata": {},
   "outputs": [
    {
     "output_type": "execute_result",
     "data": {
      "text/plain": [
       "                                             description       Revenue\n",
       "10637                               5YR PROSUPPORT PLUS,  4.425280e+08\n",
       "8381                                3YR PROSUPPORT PLUS,  2.760725e+08\n",
       "8380                    3YR PROSUPPORT MISSION CRITICAL,  2.524822e+08\n",
       "8383                                     3YR PROSUPPORT,  1.627357e+08\n",
       "8308                    3YR BASIC ONSITE TO 5YR PROSUPT,  1.549725e+08\n",
       "8346                           3YR NBD TO 5YR PROSPT 4H,  1.388064e+08\n",
       "4310   1YR HW SVC WITH IN-HOME/OS SVC, AFTER REM DIAG...  1.324530e+08\n",
       "4311   1YR HW SVC WITH IN-HOME/OS SVC, AFTER REM DIAG...  1.056940e+08\n",
       "4315   1YR HW SVC WITH IN-HOME/OS SVC, AFTER REM DIAG...  7.642556e+07\n",
       "4308   1YR HW SVC WITH IN-HOME/OS SVC, AFTER REM DIAG...  7.433046e+07"
      ],
      "text/html": "<div>\n<style scoped>\n    .dataframe tbody tr th:only-of-type {\n        vertical-align: middle;\n    }\n\n    .dataframe tbody tr th {\n        vertical-align: top;\n    }\n\n    .dataframe thead th {\n        text-align: right;\n    }\n</style>\n<table border=\"1\" class=\"dataframe\">\n  <thead>\n    <tr style=\"text-align: right;\">\n      <th></th>\n      <th>description</th>\n      <th>Revenue</th>\n    </tr>\n  </thead>\n  <tbody>\n    <tr>\n      <th>10637</th>\n      <td>5YR PROSUPPORT PLUS,</td>\n      <td>4.425280e+08</td>\n    </tr>\n    <tr>\n      <th>8381</th>\n      <td>3YR PROSUPPORT PLUS,</td>\n      <td>2.760725e+08</td>\n    </tr>\n    <tr>\n      <th>8380</th>\n      <td>3YR PROSUPPORT MISSION CRITICAL,</td>\n      <td>2.524822e+08</td>\n    </tr>\n    <tr>\n      <th>8383</th>\n      <td>3YR PROSUPPORT,</td>\n      <td>1.627357e+08</td>\n    </tr>\n    <tr>\n      <th>8308</th>\n      <td>3YR BASIC ONSITE TO 5YR PROSUPT,</td>\n      <td>1.549725e+08</td>\n    </tr>\n    <tr>\n      <th>8346</th>\n      <td>3YR NBD TO 5YR PROSPT 4H,</td>\n      <td>1.388064e+08</td>\n    </tr>\n    <tr>\n      <th>4310</th>\n      <td>1YR HW SVC WITH IN-HOME/OS SVC, AFTER REM DIAG...</td>\n      <td>1.324530e+08</td>\n    </tr>\n    <tr>\n      <th>4311</th>\n      <td>1YR HW SVC WITH IN-HOME/OS SVC, AFTER REM DIAG...</td>\n      <td>1.056940e+08</td>\n    </tr>\n    <tr>\n      <th>4315</th>\n      <td>1YR HW SVC WITH IN-HOME/OS SVC, AFTER REM DIAG...</td>\n      <td>7.642556e+07</td>\n    </tr>\n    <tr>\n      <th>4308</th>\n      <td>1YR HW SVC WITH IN-HOME/OS SVC, AFTER REM DIAG...</td>\n      <td>7.433046e+07</td>\n    </tr>\n  </tbody>\n</table>\n</div>"
     },
     "metadata": {},
     "execution_count": 24
    }
   ],
   "source": [
    "q2 = instock_df.groupby('description',as_index=False)['Revenue'].sum().sort_values(by='Revenue', ascending=False)\n",
    "q2.head(10)"
   ]
  },
  {
   "source": [
    "### Question 3: Which is the product where you have seen a decrease in the price? "
   ],
   "cell_type": "markdown",
   "metadata": {}
  },
  {
   "source": [
    "For this we'll follow the below steps: <br>\n",
    "\n",
    "1. sort dataframe wrt date <br>\n",
    "2. add a column named price_diff, where price would be differenced with period 1 (replace NaN by 0) <br>\n",
    "3. The above values represent difference in price from previous day <br>\n",
    "4. Now group data wrt to description, and add these differenced values for same products <br>\n",
    "5. The above values represent overall (total) price difference in a product in 10 days. For instance, if price is \n",
    "increased by 2.00 on Day 5 and then decreased by 2.00 on Day 8 , then these values will tell that there's\n",
    "no change in price. <br>\n",
    "6. If values are <0 , then price has decreased. If value=0, price remained same else price has increased."
   ],
   "cell_type": "markdown",
   "metadata": {}
  },
  {
   "cell_type": "code",
   "execution_count": 25,
   "metadata": {},
   "outputs": [
    {
     "output_type": "execute_result",
     "data": {
      "text/plain": [
       "        category                    manufacturer     part_number     sku  \\\n",
       "253         9920  CASE LOGIC-PERSONAL & PORTABLE         3200943  BA6371   \n",
       "591726      9920         BATTERY TECHNOLOGY INC.    312-0910-BTI  3AX653   \n",
       "591725      9920         BATTERY TECHNOLOGY INC.    312-0910-BTI  3AX653   \n",
       "591696      9920         BATTERY TECHNOLOGY INC.          HP-DV4  3AX651   \n",
       "591695      9920         BATTERY TECHNOLOGY INC.          HP-DV4  3AX651   \n",
       "591666      9920         BATTERY TECHNOLOGY INC.       A1331-BTI  3AX649   \n",
       "591665      9920         BATTERY TECHNOLOGY INC.       A1331-BTI  3AX649   \n",
       "591606      9920         BATTERY TECHNOLOGY INC.      HP-ENVY17J  3AX645   \n",
       "591605      9920         BATTERY TECHNOLOGY INC.      HP-ENVY17J  3AX645   \n",
       "591561      9920         BATTERY TECHNOLOGY INC.  482962-001-BTI  3AX642   \n",
       "\n",
       "                                              description    status  qty  \\\n",
       "253     LAPTOP ROLLING CASE BLACK, SECURITY FRIENDLY 17IN  In Stock    7   \n",
       "591726  LI-ION 9 CELL 11.1V BATTERY FOR, DELL LATI E64...  In Stock    3   \n",
       "591725  LI-ION 9 CELL 11.1V BATTERY FOR, DELL LATI E64...  In Stock    3   \n",
       "591696  LI-ION 6 CELL 10.8V BATTERY FOR, HP G50-100 CT...  In Stock   18   \n",
       "591695  LI-ION 6 CELL 10.8V BATTERY FOR, HP G50-100 CT...  In Stock   18   \n",
       "591666  LI-POLY 3CELL 10.9V BATTERY FOR, APPLE MBK 13 ...  In Stock    6   \n",
       "591665  LI-POLY 3CELL 10.9V BATTERY FOR, APPLE MBK 13 ...  In Stock    6   \n",
       "591606  LI-ION 6 CELL 10.8V BATTERY FOR, HP ENVY 17-J ...  In Stock    2   \n",
       "591605  LI-ION 6 CELL 10.8V BATTERY FOR, HP ENVY 17-J ...  In Stock    2   \n",
       "591561  LI-ION 6 CELL 10.8V BATTERY FOR, HP 6530B ELIT...  In Stock    1   \n",
       "\n",
       "        price sku_create_date  Revenue  price_diff  \n",
       "253     99.00      2020-08-17   693.00        0.00  \n",
       "591726  82.79      2020-08-17   248.37        0.00  \n",
       "591725  85.91      2020-08-17   257.73        3.12  \n",
       "591696  53.07      2020-08-17   955.26        0.00  \n",
       "591695  55.07      2020-08-17   991.26        2.00  \n",
       "591666  58.37      2020-08-17   350.22        0.00  \n",
       "591665  60.57      2020-08-17   363.42        2.20  \n",
       "591606  74.30      2020-08-17   148.60        0.00  \n",
       "591605  77.10      2020-08-17   154.20        2.80  \n",
       "591561  59.43      2020-08-17    59.43        0.00  "
      ],
      "text/html": "<div>\n<style scoped>\n    .dataframe tbody tr th:only-of-type {\n        vertical-align: middle;\n    }\n\n    .dataframe tbody tr th {\n        vertical-align: top;\n    }\n\n    .dataframe thead th {\n        text-align: right;\n    }\n</style>\n<table border=\"1\" class=\"dataframe\">\n  <thead>\n    <tr style=\"text-align: right;\">\n      <th></th>\n      <th>category</th>\n      <th>manufacturer</th>\n      <th>part_number</th>\n      <th>sku</th>\n      <th>description</th>\n      <th>status</th>\n      <th>qty</th>\n      <th>price</th>\n      <th>sku_create_date</th>\n      <th>Revenue</th>\n      <th>price_diff</th>\n    </tr>\n  </thead>\n  <tbody>\n    <tr>\n      <th>253</th>\n      <td>9920</td>\n      <td>CASE LOGIC-PERSONAL &amp; PORTABLE</td>\n      <td>3200943</td>\n      <td>BA6371</td>\n      <td>LAPTOP ROLLING CASE BLACK, SECURITY FRIENDLY 17IN</td>\n      <td>In Stock</td>\n      <td>7</td>\n      <td>99.00</td>\n      <td>2020-08-17</td>\n      <td>693.00</td>\n      <td>0.00</td>\n    </tr>\n    <tr>\n      <th>591726</th>\n      <td>9920</td>\n      <td>BATTERY TECHNOLOGY INC.</td>\n      <td>312-0910-BTI</td>\n      <td>3AX653</td>\n      <td>LI-ION 9 CELL 11.1V BATTERY FOR, DELL LATI E64...</td>\n      <td>In Stock</td>\n      <td>3</td>\n      <td>82.79</td>\n      <td>2020-08-17</td>\n      <td>248.37</td>\n      <td>0.00</td>\n    </tr>\n    <tr>\n      <th>591725</th>\n      <td>9920</td>\n      <td>BATTERY TECHNOLOGY INC.</td>\n      <td>312-0910-BTI</td>\n      <td>3AX653</td>\n      <td>LI-ION 9 CELL 11.1V BATTERY FOR, DELL LATI E64...</td>\n      <td>In Stock</td>\n      <td>3</td>\n      <td>85.91</td>\n      <td>2020-08-17</td>\n      <td>257.73</td>\n      <td>3.12</td>\n    </tr>\n    <tr>\n      <th>591696</th>\n      <td>9920</td>\n      <td>BATTERY TECHNOLOGY INC.</td>\n      <td>HP-DV4</td>\n      <td>3AX651</td>\n      <td>LI-ION 6 CELL 10.8V BATTERY FOR, HP G50-100 CT...</td>\n      <td>In Stock</td>\n      <td>18</td>\n      <td>53.07</td>\n      <td>2020-08-17</td>\n      <td>955.26</td>\n      <td>0.00</td>\n    </tr>\n    <tr>\n      <th>591695</th>\n      <td>9920</td>\n      <td>BATTERY TECHNOLOGY INC.</td>\n      <td>HP-DV4</td>\n      <td>3AX651</td>\n      <td>LI-ION 6 CELL 10.8V BATTERY FOR, HP G50-100 CT...</td>\n      <td>In Stock</td>\n      <td>18</td>\n      <td>55.07</td>\n      <td>2020-08-17</td>\n      <td>991.26</td>\n      <td>2.00</td>\n    </tr>\n    <tr>\n      <th>591666</th>\n      <td>9920</td>\n      <td>BATTERY TECHNOLOGY INC.</td>\n      <td>A1331-BTI</td>\n      <td>3AX649</td>\n      <td>LI-POLY 3CELL 10.9V BATTERY FOR, APPLE MBK 13 ...</td>\n      <td>In Stock</td>\n      <td>6</td>\n      <td>58.37</td>\n      <td>2020-08-17</td>\n      <td>350.22</td>\n      <td>0.00</td>\n    </tr>\n    <tr>\n      <th>591665</th>\n      <td>9920</td>\n      <td>BATTERY TECHNOLOGY INC.</td>\n      <td>A1331-BTI</td>\n      <td>3AX649</td>\n      <td>LI-POLY 3CELL 10.9V BATTERY FOR, APPLE MBK 13 ...</td>\n      <td>In Stock</td>\n      <td>6</td>\n      <td>60.57</td>\n      <td>2020-08-17</td>\n      <td>363.42</td>\n      <td>2.20</td>\n    </tr>\n    <tr>\n      <th>591606</th>\n      <td>9920</td>\n      <td>BATTERY TECHNOLOGY INC.</td>\n      <td>HP-ENVY17J</td>\n      <td>3AX645</td>\n      <td>LI-ION 6 CELL 10.8V BATTERY FOR, HP ENVY 17-J ...</td>\n      <td>In Stock</td>\n      <td>2</td>\n      <td>74.30</td>\n      <td>2020-08-17</td>\n      <td>148.60</td>\n      <td>0.00</td>\n    </tr>\n    <tr>\n      <th>591605</th>\n      <td>9920</td>\n      <td>BATTERY TECHNOLOGY INC.</td>\n      <td>HP-ENVY17J</td>\n      <td>3AX645</td>\n      <td>LI-ION 6 CELL 10.8V BATTERY FOR, HP ENVY 17-J ...</td>\n      <td>In Stock</td>\n      <td>2</td>\n      <td>77.10</td>\n      <td>2020-08-17</td>\n      <td>154.20</td>\n      <td>2.80</td>\n    </tr>\n    <tr>\n      <th>591561</th>\n      <td>9920</td>\n      <td>BATTERY TECHNOLOGY INC.</td>\n      <td>482962-001-BTI</td>\n      <td>3AX642</td>\n      <td>LI-ION 6 CELL 10.8V BATTERY FOR, HP 6530B ELIT...</td>\n      <td>In Stock</td>\n      <td>1</td>\n      <td>59.43</td>\n      <td>2020-08-17</td>\n      <td>59.43</td>\n      <td>0.00</td>\n    </tr>\n  </tbody>\n</table>\n</div>"
     },
     "metadata": {},
     "execution_count": 25
    }
   ],
   "source": [
    "instock_df = instock_df.sort_values(\"sku_create_date\")\n",
    "instock_df['price_diff'] = instock_df.groupby('description')['price'].diff().fillna(0)\n",
    "instock_df.head(10)"
   ]
  },
  {
   "cell_type": "code",
   "execution_count": 26,
   "metadata": {},
   "outputs": [
    {
     "output_type": "stream",
     "name": "stdout",
     "text": [
      "Top 10 products that show maximum decrease in price (Period=1)\n"
     ]
    },
    {
     "output_type": "execute_result",
     "data": {
      "text/plain": [
       "         category                     manufacturer    part_number     sku  \\\n",
       "1758698       573              FLUKE NETWORKS CORE    OFP2-100-QI  2KL843   \n",
       "2502764      1221              DELL ESG WARRANTIES       823-7910  7GZ794   \n",
       "2450779      1221              DELL ESG WARRANTIES       818-6440  3DB693   \n",
       "2616744         5  TOPSELLER LENOVO DCG BTO SERVER     7Y51A04QNA  6KM127   \n",
       "1197961         5  TOPSELLER LENOVO DCG BTO SERVER     7Y51A04QNA  6KM127   \n",
       "1890624      1221      DELL CSG SERVICE WARRANTIES       818-6435  3DB688   \n",
       "2605257      2150                   AMD SERVER BOX  PS7551BDAFWOF  2KQ135   \n",
       "2450772      1221              DELL ESG WARRANTIES       818-6433  3DB686   \n",
       "1890635      1221              DELL ESG WARRANTIES       818-6446  3DB699   \n",
       "625984       1221              DELL ESG WARRANTIES       818-6446  3DB699   \n",
       "\n",
       "                                              description    status    qty  \\\n",
       "1758698  OPTIFIBER PRO QUAD OTDR V2 W/, INSPECTION & WIFI  In Stock      1   \n",
       "2502764                         3YR NBD TO 5YR PROSPT 4H,  In Stock   9999   \n",
       "2450779                              5YR PROSUPPORT PLUS,  In Stock   9999   \n",
       "2616744           THINKSYSTEM SR250 E-2136 3.3G, 12MB 8GB  In Stock      4   \n",
       "1197961           THINKSYSTEM SR250 E-2136 3.3G, 12MB 8GB  In Stock      4   \n",
       "1890624                  3YR PROSUPPORT MISSION CRITICAL,  In Stock  19998   \n",
       "2605257       EPYC MODEL 7551 32C 3.0G 64MB, 180W 2666MHZ  In Stock      2   \n",
       "2450772                  3YR PROSUPPORT MISSION CRITICAL,  In Stock  19998   \n",
       "1890635                              5YR PROSUPPORT PLUS,  In Stock   9999   \n",
       "625984                               5YR PROSUPPORT PLUS,  In Stock   9999   \n",
       "\n",
       "            price sku_create_date      Revenue  price_diff  \n",
       "1758698  12158.37      2020-08-24     12158.37    -4840.75  \n",
       "2502764   2477.25      2020-08-26  24770022.75    -1759.05  \n",
       "2450779   2341.77      2020-08-26  23415358.23    -1456.91  \n",
       "2616744   1450.89      2020-08-28      5803.56    -1431.46  \n",
       "1197961   1450.89      2020-08-20      5803.56    -1431.46  \n",
       "1890624    868.25      2020-08-24  17363263.50    -1394.07  \n",
       "2605257   1410.71      2020-08-28      2821.42    -1212.20  \n",
       "2450772   1142.03      2020-08-26  22838315.94    -1120.29  \n",
       "1890635   2804.29      2020-08-24  28040095.71     -996.43  \n",
       "625984    2804.29      2020-08-17  28040095.71     -996.43  "
      ],
      "text/html": "<div>\n<style scoped>\n    .dataframe tbody tr th:only-of-type {\n        vertical-align: middle;\n    }\n\n    .dataframe tbody tr th {\n        vertical-align: top;\n    }\n\n    .dataframe thead th {\n        text-align: right;\n    }\n</style>\n<table border=\"1\" class=\"dataframe\">\n  <thead>\n    <tr style=\"text-align: right;\">\n      <th></th>\n      <th>category</th>\n      <th>manufacturer</th>\n      <th>part_number</th>\n      <th>sku</th>\n      <th>description</th>\n      <th>status</th>\n      <th>qty</th>\n      <th>price</th>\n      <th>sku_create_date</th>\n      <th>Revenue</th>\n      <th>price_diff</th>\n    </tr>\n  </thead>\n  <tbody>\n    <tr>\n      <th>1758698</th>\n      <td>573</td>\n      <td>FLUKE NETWORKS CORE</td>\n      <td>OFP2-100-QI</td>\n      <td>2KL843</td>\n      <td>OPTIFIBER PRO QUAD OTDR V2 W/, INSPECTION &amp; WIFI</td>\n      <td>In Stock</td>\n      <td>1</td>\n      <td>12158.37</td>\n      <td>2020-08-24</td>\n      <td>12158.37</td>\n      <td>-4840.75</td>\n    </tr>\n    <tr>\n      <th>2502764</th>\n      <td>1221</td>\n      <td>DELL ESG WARRANTIES</td>\n      <td>823-7910</td>\n      <td>7GZ794</td>\n      <td>3YR NBD TO 5YR PROSPT 4H,</td>\n      <td>In Stock</td>\n      <td>9999</td>\n      <td>2477.25</td>\n      <td>2020-08-26</td>\n      <td>24770022.75</td>\n      <td>-1759.05</td>\n    </tr>\n    <tr>\n      <th>2450779</th>\n      <td>1221</td>\n      <td>DELL ESG WARRANTIES</td>\n      <td>818-6440</td>\n      <td>3DB693</td>\n      <td>5YR PROSUPPORT PLUS,</td>\n      <td>In Stock</td>\n      <td>9999</td>\n      <td>2341.77</td>\n      <td>2020-08-26</td>\n      <td>23415358.23</td>\n      <td>-1456.91</td>\n    </tr>\n    <tr>\n      <th>2616744</th>\n      <td>5</td>\n      <td>TOPSELLER LENOVO DCG BTO SERVER</td>\n      <td>7Y51A04QNA</td>\n      <td>6KM127</td>\n      <td>THINKSYSTEM SR250 E-2136 3.3G, 12MB 8GB</td>\n      <td>In Stock</td>\n      <td>4</td>\n      <td>1450.89</td>\n      <td>2020-08-28</td>\n      <td>5803.56</td>\n      <td>-1431.46</td>\n    </tr>\n    <tr>\n      <th>1197961</th>\n      <td>5</td>\n      <td>TOPSELLER LENOVO DCG BTO SERVER</td>\n      <td>7Y51A04QNA</td>\n      <td>6KM127</td>\n      <td>THINKSYSTEM SR250 E-2136 3.3G, 12MB 8GB</td>\n      <td>In Stock</td>\n      <td>4</td>\n      <td>1450.89</td>\n      <td>2020-08-20</td>\n      <td>5803.56</td>\n      <td>-1431.46</td>\n    </tr>\n    <tr>\n      <th>1890624</th>\n      <td>1221</td>\n      <td>DELL CSG SERVICE WARRANTIES</td>\n      <td>818-6435</td>\n      <td>3DB688</td>\n      <td>3YR PROSUPPORT MISSION CRITICAL,</td>\n      <td>In Stock</td>\n      <td>19998</td>\n      <td>868.25</td>\n      <td>2020-08-24</td>\n      <td>17363263.50</td>\n      <td>-1394.07</td>\n    </tr>\n    <tr>\n      <th>2605257</th>\n      <td>2150</td>\n      <td>AMD SERVER BOX</td>\n      <td>PS7551BDAFWOF</td>\n      <td>2KQ135</td>\n      <td>EPYC MODEL 7551 32C 3.0G 64MB, 180W 2666MHZ</td>\n      <td>In Stock</td>\n      <td>2</td>\n      <td>1410.71</td>\n      <td>2020-08-28</td>\n      <td>2821.42</td>\n      <td>-1212.20</td>\n    </tr>\n    <tr>\n      <th>2450772</th>\n      <td>1221</td>\n      <td>DELL ESG WARRANTIES</td>\n      <td>818-6433</td>\n      <td>3DB686</td>\n      <td>3YR PROSUPPORT MISSION CRITICAL,</td>\n      <td>In Stock</td>\n      <td>19998</td>\n      <td>1142.03</td>\n      <td>2020-08-26</td>\n      <td>22838315.94</td>\n      <td>-1120.29</td>\n    </tr>\n    <tr>\n      <th>1890635</th>\n      <td>1221</td>\n      <td>DELL ESG WARRANTIES</td>\n      <td>818-6446</td>\n      <td>3DB699</td>\n      <td>5YR PROSUPPORT PLUS,</td>\n      <td>In Stock</td>\n      <td>9999</td>\n      <td>2804.29</td>\n      <td>2020-08-24</td>\n      <td>28040095.71</td>\n      <td>-996.43</td>\n    </tr>\n    <tr>\n      <th>625984</th>\n      <td>1221</td>\n      <td>DELL ESG WARRANTIES</td>\n      <td>818-6446</td>\n      <td>3DB699</td>\n      <td>5YR PROSUPPORT PLUS,</td>\n      <td>In Stock</td>\n      <td>9999</td>\n      <td>2804.29</td>\n      <td>2020-08-17</td>\n      <td>28040095.71</td>\n      <td>-996.43</td>\n    </tr>\n  </tbody>\n</table>\n</div>"
     },
     "metadata": {},
     "execution_count": 26
    }
   ],
   "source": [
    "print(\"Top 10 products that show maximum decrease in price (Period=1)\")\n",
    "instock_df.sort_values('price_diff').head(10)"
   ]
  },
  {
   "cell_type": "code",
   "execution_count": 27,
   "metadata": {},
   "outputs": [],
   "source": [
    "change_df = instock_df.groupby('description',as_index=False)['price_diff'].sum().sort_values(by='price_diff',ascending=False)"
   ]
  },
  {
   "cell_type": "code",
   "execution_count": 28,
   "metadata": {},
   "outputs": [],
   "source": [
    "decrease = change_df[change_df['price_diff']<0]"
   ]
  },
  {
   "cell_type": "code",
   "execution_count": 29,
   "metadata": {},
   "outputs": [
    {
     "output_type": "stream",
     "name": "stdout",
     "text": [
      "Top 10 Products (L to H) on which reduction of price was maximum (Total): \n"
     ]
    },
    {
     "output_type": "execute_result",
     "data": {
      "text/plain": [
       "                                             description  price_diff\n",
       "17960             FF 5940 48SFP+ 6QSFP+ SWITCH PS, PL-NT     -352.45\n",
       "15824  CONNECTX 6 VPI ADAPT CARD, H200GB/S HDR200 EDR...     -479.65\n",
       "27993  TT PRNT ZT620 6IN 300DPI US, CORD SER USB GB E...     -547.03\n",
       "26654  SURFACE LAPTOP I7 512GB W/10PRO, OPEN BOX SEE ...     -553.74\n",
       "27980  TT PRINTER ZT410 4IN 203 DPI US, EOL LBD 7-1-2020     -619.51\n",
       "27647  TOPSELLER TP P53 I7-9850H 2.6G, 16GB 512GB SSD...     -685.99\n",
       "17610        EPYC MODEL 7551 32C 3.0G 64MB, 180W 2666MHZ    -1212.20\n",
       "27263            THINKSYSTEM SR250 E-2136 3.3G, 12MB 8GB    -1431.46\n",
       "10637                               5YR PROSUPPORT PLUS,    -1458.95\n",
       "22458   OPTIFIBER PRO QUAD OTDR V2 W/, INSPECTION & WIFI    -4840.75"
      ],
      "text/html": "<div>\n<style scoped>\n    .dataframe tbody tr th:only-of-type {\n        vertical-align: middle;\n    }\n\n    .dataframe tbody tr th {\n        vertical-align: top;\n    }\n\n    .dataframe thead th {\n        text-align: right;\n    }\n</style>\n<table border=\"1\" class=\"dataframe\">\n  <thead>\n    <tr style=\"text-align: right;\">\n      <th></th>\n      <th>description</th>\n      <th>price_diff</th>\n    </tr>\n  </thead>\n  <tbody>\n    <tr>\n      <th>17960</th>\n      <td>FF 5940 48SFP+ 6QSFP+ SWITCH PS, PL-NT</td>\n      <td>-352.45</td>\n    </tr>\n    <tr>\n      <th>15824</th>\n      <td>CONNECTX 6 VPI ADAPT CARD, H200GB/S HDR200 EDR...</td>\n      <td>-479.65</td>\n    </tr>\n    <tr>\n      <th>27993</th>\n      <td>TT PRNT ZT620 6IN 300DPI US, CORD SER USB GB E...</td>\n      <td>-547.03</td>\n    </tr>\n    <tr>\n      <th>26654</th>\n      <td>SURFACE LAPTOP I7 512GB W/10PRO, OPEN BOX SEE ...</td>\n      <td>-553.74</td>\n    </tr>\n    <tr>\n      <th>27980</th>\n      <td>TT PRINTER ZT410 4IN 203 DPI US, EOL LBD 7-1-2020</td>\n      <td>-619.51</td>\n    </tr>\n    <tr>\n      <th>27647</th>\n      <td>TOPSELLER TP P53 I7-9850H 2.6G, 16GB 512GB SSD...</td>\n      <td>-685.99</td>\n    </tr>\n    <tr>\n      <th>17610</th>\n      <td>EPYC MODEL 7551 32C 3.0G 64MB, 180W 2666MHZ</td>\n      <td>-1212.20</td>\n    </tr>\n    <tr>\n      <th>27263</th>\n      <td>THINKSYSTEM SR250 E-2136 3.3G, 12MB 8GB</td>\n      <td>-1431.46</td>\n    </tr>\n    <tr>\n      <th>10637</th>\n      <td>5YR PROSUPPORT PLUS,</td>\n      <td>-1458.95</td>\n    </tr>\n    <tr>\n      <th>22458</th>\n      <td>OPTIFIBER PRO QUAD OTDR V2 W/, INSPECTION &amp; WIFI</td>\n      <td>-4840.75</td>\n    </tr>\n  </tbody>\n</table>\n</div>"
     },
     "metadata": {},
     "execution_count": 29
    }
   ],
   "source": [
    "print(\"Top 10 Products (L to H) on which reduction of price was maximum (Total): \")\n",
    "decrease.tail(10)"
   ]
  },
  {
   "source": [
    "### Question 4: Which is the product where you have seen a increase in the price? "
   ],
   "cell_type": "markdown",
   "metadata": {}
  },
  {
   "cell_type": "code",
   "execution_count": 30,
   "metadata": {},
   "outputs": [
    {
     "output_type": "stream",
     "name": "stdout",
     "text": [
      "Top 10 products that show maximum increase in price (Period=1)\n"
     ]
    },
    {
     "output_type": "execute_result",
     "data": {
      "text/plain": [
       "         category                     manufacturer part_number     sku  \\\n",
       "1890636      1221      DELL CSG SERVICE WARRANTIES    818-6447  3DB700   \n",
       "2264912         5  TOPSELLER LENOVO DCG BTO SERVER  7Y51A04KNA  6KM122   \n",
       "1890645      1221      DELL CSG SERVICE WARRANTIES    817-5324  3DB709   \n",
       "2450795      1221      DELL CSG SERVICE WARRANTIES    817-5324  3DB709   \n",
       "1890633      1221      DELL CSG SERVICE WARRANTIES    818-6444  3DB697   \n",
       "628430       1221              DELL ESG WARRANTIES    822-4650  3DY398   \n",
       "625994       1221      DELL CSG SERVICE WARRANTIES    817-5324  3DB709   \n",
       "2502762      1221              DELL ESG WARRANTIES    823-7912  7GZ792   \n",
       "2450784      1221              DELL ESG WARRANTIES    818-6445  3DB698   \n",
       "1892991      1221              DELL ESG WARRANTIES    822-4650  3DY398   \n",
       "\n",
       "                                     description    status   qty    price  \\\n",
       "1890636                     5YR PROSUPPORT PLUS,  In Stock  9999  3800.72   \n",
       "2264912  THINKSYSTEM SR250 E-2136 3.3G, 12MB 8GB  In Stock     5  2882.35   \n",
       "1890645         3YR PROSUPPORT MISSION CRITICAL,  In Stock  9999  2262.32   \n",
       "2450795         3YR PROSUPPORT MISSION CRITICAL,  In Stock  9999  2261.12   \n",
       "1890633                     3YR PROSUPPORT PLUS,  In Stock  9999  2375.33   \n",
       "628430          3YR BASIC ONSITE TO 5YR PROSUPT,  In Stock  9999  1984.58   \n",
       "625994          3YR PROSUPPORT MISSION CRITICAL,  In Stock  9999  2262.32   \n",
       "2502762                3YR NBD TO 5YR PROSPT 4H,  In Stock  9999  4236.30   \n",
       "2450784                     5YR PROSUPPORT PLUS,  In Stock  9999  2600.54   \n",
       "1892991         3YR BASIC ONSITE TO 5YR PROSUPT,  In Stock  9999  1984.58   \n",
       "\n",
       "        sku_create_date      Revenue  price_diff  \n",
       "1890636      2020-08-24  38003399.28     2015.47  \n",
       "2264912      2020-08-24     14411.75     1431.46  \n",
       "1890645      2020-08-24  22620937.68     1357.33  \n",
       "2450795      2020-08-26  22608938.88     1356.62  \n",
       "1890633      2020-08-24  23750924.67     1259.47  \n",
       "628430       2020-08-17  19843815.42     1234.69  \n",
       "625994       2020-08-17  22620937.68     1195.33  \n",
       "2502762      2020-08-26  42358763.70     1125.29  \n",
       "2450784      2020-08-26  26002799.46      986.93  \n",
       "1892991      2020-08-24  19843815.42      943.30  "
      ],
      "text/html": "<div>\n<style scoped>\n    .dataframe tbody tr th:only-of-type {\n        vertical-align: middle;\n    }\n\n    .dataframe tbody tr th {\n        vertical-align: top;\n    }\n\n    .dataframe thead th {\n        text-align: right;\n    }\n</style>\n<table border=\"1\" class=\"dataframe\">\n  <thead>\n    <tr style=\"text-align: right;\">\n      <th></th>\n      <th>category</th>\n      <th>manufacturer</th>\n      <th>part_number</th>\n      <th>sku</th>\n      <th>description</th>\n      <th>status</th>\n      <th>qty</th>\n      <th>price</th>\n      <th>sku_create_date</th>\n      <th>Revenue</th>\n      <th>price_diff</th>\n    </tr>\n  </thead>\n  <tbody>\n    <tr>\n      <th>1890636</th>\n      <td>1221</td>\n      <td>DELL CSG SERVICE WARRANTIES</td>\n      <td>818-6447</td>\n      <td>3DB700</td>\n      <td>5YR PROSUPPORT PLUS,</td>\n      <td>In Stock</td>\n      <td>9999</td>\n      <td>3800.72</td>\n      <td>2020-08-24</td>\n      <td>38003399.28</td>\n      <td>2015.47</td>\n    </tr>\n    <tr>\n      <th>2264912</th>\n      <td>5</td>\n      <td>TOPSELLER LENOVO DCG BTO SERVER</td>\n      <td>7Y51A04KNA</td>\n      <td>6KM122</td>\n      <td>THINKSYSTEM SR250 E-2136 3.3G, 12MB 8GB</td>\n      <td>In Stock</td>\n      <td>5</td>\n      <td>2882.35</td>\n      <td>2020-08-24</td>\n      <td>14411.75</td>\n      <td>1431.46</td>\n    </tr>\n    <tr>\n      <th>1890645</th>\n      <td>1221</td>\n      <td>DELL CSG SERVICE WARRANTIES</td>\n      <td>817-5324</td>\n      <td>3DB709</td>\n      <td>3YR PROSUPPORT MISSION CRITICAL,</td>\n      <td>In Stock</td>\n      <td>9999</td>\n      <td>2262.32</td>\n      <td>2020-08-24</td>\n      <td>22620937.68</td>\n      <td>1357.33</td>\n    </tr>\n    <tr>\n      <th>2450795</th>\n      <td>1221</td>\n      <td>DELL CSG SERVICE WARRANTIES</td>\n      <td>817-5324</td>\n      <td>3DB709</td>\n      <td>3YR PROSUPPORT MISSION CRITICAL,</td>\n      <td>In Stock</td>\n      <td>9999</td>\n      <td>2261.12</td>\n      <td>2020-08-26</td>\n      <td>22608938.88</td>\n      <td>1356.62</td>\n    </tr>\n    <tr>\n      <th>1890633</th>\n      <td>1221</td>\n      <td>DELL CSG SERVICE WARRANTIES</td>\n      <td>818-6444</td>\n      <td>3DB697</td>\n      <td>3YR PROSUPPORT PLUS,</td>\n      <td>In Stock</td>\n      <td>9999</td>\n      <td>2375.33</td>\n      <td>2020-08-24</td>\n      <td>23750924.67</td>\n      <td>1259.47</td>\n    </tr>\n    <tr>\n      <th>628430</th>\n      <td>1221</td>\n      <td>DELL ESG WARRANTIES</td>\n      <td>822-4650</td>\n      <td>3DY398</td>\n      <td>3YR BASIC ONSITE TO 5YR PROSUPT,</td>\n      <td>In Stock</td>\n      <td>9999</td>\n      <td>1984.58</td>\n      <td>2020-08-17</td>\n      <td>19843815.42</td>\n      <td>1234.69</td>\n    </tr>\n    <tr>\n      <th>625994</th>\n      <td>1221</td>\n      <td>DELL CSG SERVICE WARRANTIES</td>\n      <td>817-5324</td>\n      <td>3DB709</td>\n      <td>3YR PROSUPPORT MISSION CRITICAL,</td>\n      <td>In Stock</td>\n      <td>9999</td>\n      <td>2262.32</td>\n      <td>2020-08-17</td>\n      <td>22620937.68</td>\n      <td>1195.33</td>\n    </tr>\n    <tr>\n      <th>2502762</th>\n      <td>1221</td>\n      <td>DELL ESG WARRANTIES</td>\n      <td>823-7912</td>\n      <td>7GZ792</td>\n      <td>3YR NBD TO 5YR PROSPT 4H,</td>\n      <td>In Stock</td>\n      <td>9999</td>\n      <td>4236.30</td>\n      <td>2020-08-26</td>\n      <td>42358763.70</td>\n      <td>1125.29</td>\n    </tr>\n    <tr>\n      <th>2450784</th>\n      <td>1221</td>\n      <td>DELL ESG WARRANTIES</td>\n      <td>818-6445</td>\n      <td>3DB698</td>\n      <td>5YR PROSUPPORT PLUS,</td>\n      <td>In Stock</td>\n      <td>9999</td>\n      <td>2600.54</td>\n      <td>2020-08-26</td>\n      <td>26002799.46</td>\n      <td>986.93</td>\n    </tr>\n    <tr>\n      <th>1892991</th>\n      <td>1221</td>\n      <td>DELL ESG WARRANTIES</td>\n      <td>822-4650</td>\n      <td>3DY398</td>\n      <td>3YR BASIC ONSITE TO 5YR PROSUPT,</td>\n      <td>In Stock</td>\n      <td>9999</td>\n      <td>1984.58</td>\n      <td>2020-08-24</td>\n      <td>19843815.42</td>\n      <td>943.30</td>\n    </tr>\n  </tbody>\n</table>\n</div>"
     },
     "metadata": {},
     "execution_count": 30
    }
   ],
   "source": [
    "print(\"Top 10 products that show maximum increase in price (Period=1)\")\n",
    "instock_df.sort_values('price_diff',ascending=False).head(10)"
   ]
  },
  {
   "cell_type": "code",
   "execution_count": 31,
   "metadata": {},
   "outputs": [],
   "source": [
    "increase = change_df[change_df['price_diff']>0]"
   ]
  },
  {
   "cell_type": "code",
   "execution_count": 32,
   "metadata": {},
   "outputs": [
    {
     "output_type": "stream",
     "name": "stdout",
     "text": [
      "Top 10 Products on which increase in price was maximum (Total): \n"
     ]
    },
    {
     "output_type": "execute_result",
     "data": {
      "text/plain": [
       "                                             description  price_diff\n",
       "8380                    3YR PROSUPPORT MISSION CRITICAL,     1356.13\n",
       "8308                    3YR BASIC ONSITE TO 5YR PROSUPT,     1090.84\n",
       "4786   20PK 14000GB ULTRA SAS 3.5IN, 26.1MM 512MB 720...      880.00\n",
       "4787   20PK 14000GB ULTRA SAS 7200RPM, 3.5IN 26.1MM 5...      880.00\n",
       "8346                           3YR NBD TO 5YR PROSPT 4H,      650.46\n",
       "4777   20PK 12TB 256MB SATA UTLRA, 3.5IN 7200RPM 512 ...      520.00\n",
       "4784   20PK 12TB SATA 7200 RPM 256MB, 3.5IN 26.1MM UL...      520.00\n",
       "4783   20PK 12TB SATA 7200 RPM 256MB, 3.5IN 26.1MM UL...      520.00\n",
       "12651                  800GB SAS WI SFF SC DS SSD, PL-SI      468.00\n",
       "25922  SMART BUY ZBOOK 17 G6 I7-9850H, 2.6G 16GB 512G...      450.45"
      ],
      "text/html": "<div>\n<style scoped>\n    .dataframe tbody tr th:only-of-type {\n        vertical-align: middle;\n    }\n\n    .dataframe tbody tr th {\n        vertical-align: top;\n    }\n\n    .dataframe thead th {\n        text-align: right;\n    }\n</style>\n<table border=\"1\" class=\"dataframe\">\n  <thead>\n    <tr style=\"text-align: right;\">\n      <th></th>\n      <th>description</th>\n      <th>price_diff</th>\n    </tr>\n  </thead>\n  <tbody>\n    <tr>\n      <th>8380</th>\n      <td>3YR PROSUPPORT MISSION CRITICAL,</td>\n      <td>1356.13</td>\n    </tr>\n    <tr>\n      <th>8308</th>\n      <td>3YR BASIC ONSITE TO 5YR PROSUPT,</td>\n      <td>1090.84</td>\n    </tr>\n    <tr>\n      <th>4786</th>\n      <td>20PK 14000GB ULTRA SAS 3.5IN, 26.1MM 512MB 720...</td>\n      <td>880.00</td>\n    </tr>\n    <tr>\n      <th>4787</th>\n      <td>20PK 14000GB ULTRA SAS 7200RPM, 3.5IN 26.1MM 5...</td>\n      <td>880.00</td>\n    </tr>\n    <tr>\n      <th>8346</th>\n      <td>3YR NBD TO 5YR PROSPT 4H,</td>\n      <td>650.46</td>\n    </tr>\n    <tr>\n      <th>4777</th>\n      <td>20PK 12TB 256MB SATA UTLRA, 3.5IN 7200RPM 512 ...</td>\n      <td>520.00</td>\n    </tr>\n    <tr>\n      <th>4784</th>\n      <td>20PK 12TB SATA 7200 RPM 256MB, 3.5IN 26.1MM UL...</td>\n      <td>520.00</td>\n    </tr>\n    <tr>\n      <th>4783</th>\n      <td>20PK 12TB SATA 7200 RPM 256MB, 3.5IN 26.1MM UL...</td>\n      <td>520.00</td>\n    </tr>\n    <tr>\n      <th>12651</th>\n      <td>800GB SAS WI SFF SC DS SSD, PL-SI</td>\n      <td>468.00</td>\n    </tr>\n    <tr>\n      <th>25922</th>\n      <td>SMART BUY ZBOOK 17 G6 I7-9850H, 2.6G 16GB 512G...</td>\n      <td>450.45</td>\n    </tr>\n  </tbody>\n</table>\n</div>"
     },
     "metadata": {},
     "execution_count": 32
    }
   ],
   "source": [
    "print(\"Top 10 Products on which increase in price was maximum (Total): \")\n",
    "increase.head(10)"
   ]
  },
  {
   "source": [
    "### Question 5: Which is the top category by price and quantity? "
   ],
   "cell_type": "markdown",
   "metadata": {}
  },
  {
   "cell_type": "code",
   "execution_count": 33,
   "metadata": {},
   "outputs": [],
   "source": [
    "x = instock_df.sort_values('price',ascending = False).reset_index() "
   ]
  },
  {
   "cell_type": "code",
   "execution_count": 34,
   "metadata": {},
   "outputs": [],
   "source": [
    "var = x['category'][0]"
   ]
  },
  {
   "cell_type": "code",
   "execution_count": 35,
   "metadata": {},
   "outputs": [
    {
     "output_type": "stream",
     "name": "stdout",
     "text": [
      " The Top Category by price is 521\n"
     ]
    }
   ],
   "source": [
    "print(f' The Top Category by price is {var}')"
   ]
  },
  {
   "cell_type": "code",
   "execution_count": 36,
   "metadata": {},
   "outputs": [
    {
     "output_type": "stream",
     "name": "stdout",
     "text": [
      " The Top Category by quantity is 1221\n"
     ]
    }
   ],
   "source": [
    "var = instock_df.sort_values('qty',ascending = False).reset_index()['category'][0] \n",
    "print(f' The Top Category by quantity is {var}')"
   ]
  },
  {
   "source": [
    "### 6. Which products are aging? \n",
    "Product aging refers to the storage duration of an item. The main purpose is to find out which items stay in inventory for a long time or are perhaps becoming obsolete."
   ],
   "cell_type": "markdown",
   "metadata": {}
  },
  {
   "cell_type": "code",
   "execution_count": 38,
   "metadata": {},
   "outputs": [],
   "source": [
    "instock_df = instock_df.drop(columns=['Revenue','price_diff'])"
   ]
  },
  {
   "cell_type": "code",
   "execution_count": 39,
   "metadata": {},
   "outputs": [],
   "source": [
    "products = list(set(instock_df['description']))\n",
    "age_df = pd.DataFrame(columns=['Product','Age'])"
   ]
  },
  {
   "cell_type": "code",
   "execution_count": 40,
   "metadata": {},
   "outputs": [],
   "source": [
    "for i in products:\n",
    "    details = instock_df[instock_df['description'] == i]\n",
    "    date1 = details.sku_create_date.min()\n",
    "    date2 = details.sku_create_date.max()\n",
    "    age = (date2-date1).days\n",
    "    age_df = age_df.append({'Product': i,'Age': age},ignore_index = True)"
   ]
  },
  {
   "source": [
    "#### If product is in SKU for more than 7 days, we can say that it's aging."
   ],
   "cell_type": "markdown",
   "metadata": {}
  },
  {
   "cell_type": "code",
   "execution_count": 41,
   "metadata": {},
   "outputs": [
    {
     "output_type": "stream",
     "name": "stdout",
     "text": [
      "Percentage of products aging is 42.99077647674495\n"
     ]
    }
   ],
   "source": [
    "age_df = age_df.sort_values(by='Age',ascending= False)\n",
    "aging_products = age_df[age_df['Age']>7]\n",
    "per_cent = (len(aging_products)/len(age_df))*100\n",
    "print(f'Percentage of products aging is {per_cent}') "
   ]
  },
  {
   "cell_type": "code",
   "execution_count": 42,
   "metadata": {},
   "outputs": [
    {
     "output_type": "execute_result",
     "data": {
      "text/plain": [
       "                                                 Product Age\n",
       "17646     LIGHTNING TO USB WHITE 1 METER, CABLE - 5 PACK  11\n",
       "5339          USB 3.1 TYPE C TO TYPE A, CABLE 1 METERM/M  11\n",
       "5360   OFFICE HOME AND BUSINESS 2019, ONLY DWNLD** NO...  11\n",
       "20958  KIT ACC ZQ610/620 HEALTHCARE, SPARE SMART BATTERY  11\n",
       "5358                       SMART BUY 8GB DDR4-2666 DIMM,  11\n",
       "5357   6OUT SURGE PROTECTOR 2100 J, BLACK 6FT CORD 2 ...  11\n",
       "26671                              MAXELL DVD+RW, 5 PACK  11\n",
       "5352   K830 ILLUMATED LIVINGROOM KEYB, UPDATED REFRES...  11\n",
       "5349   10.1IN TAB A 32GB SILVER, WI-FI / SERIES A / 1...  11\n",
       "26677  16GB 2X8GB 3200MHZ DRAM DDR4, C16 VENGEANCE LP...  11"
      ],
      "text/html": "<div>\n<style scoped>\n    .dataframe tbody tr th:only-of-type {\n        vertical-align: middle;\n    }\n\n    .dataframe tbody tr th {\n        vertical-align: top;\n    }\n\n    .dataframe thead th {\n        text-align: right;\n    }\n</style>\n<table border=\"1\" class=\"dataframe\">\n  <thead>\n    <tr style=\"text-align: right;\">\n      <th></th>\n      <th>Product</th>\n      <th>Age</th>\n    </tr>\n  </thead>\n  <tbody>\n    <tr>\n      <th>17646</th>\n      <td>LIGHTNING TO USB WHITE 1 METER, CABLE - 5 PACK</td>\n      <td>11</td>\n    </tr>\n    <tr>\n      <th>5339</th>\n      <td>USB 3.1 TYPE C TO TYPE A, CABLE 1 METERM/M</td>\n      <td>11</td>\n    </tr>\n    <tr>\n      <th>5360</th>\n      <td>OFFICE HOME AND BUSINESS 2019, ONLY DWNLD** NO...</td>\n      <td>11</td>\n    </tr>\n    <tr>\n      <th>20958</th>\n      <td>KIT ACC ZQ610/620 HEALTHCARE, SPARE SMART BATTERY</td>\n      <td>11</td>\n    </tr>\n    <tr>\n      <th>5358</th>\n      <td>SMART BUY 8GB DDR4-2666 DIMM,</td>\n      <td>11</td>\n    </tr>\n    <tr>\n      <th>5357</th>\n      <td>6OUT SURGE PROTECTOR 2100 J, BLACK 6FT CORD 2 ...</td>\n      <td>11</td>\n    </tr>\n    <tr>\n      <th>26671</th>\n      <td>MAXELL DVD+RW, 5 PACK</td>\n      <td>11</td>\n    </tr>\n    <tr>\n      <th>5352</th>\n      <td>K830 ILLUMATED LIVINGROOM KEYB, UPDATED REFRES...</td>\n      <td>11</td>\n    </tr>\n    <tr>\n      <th>5349</th>\n      <td>10.1IN TAB A 32GB SILVER, WI-FI / SERIES A / 1...</td>\n      <td>11</td>\n    </tr>\n    <tr>\n      <th>26677</th>\n      <td>16GB 2X8GB 3200MHZ DRAM DDR4, C16 VENGEANCE LP...</td>\n      <td>11</td>\n    </tr>\n  </tbody>\n</table>\n</div>"
     },
     "metadata": {},
     "execution_count": 42
    }
   ],
   "source": [
    "aging_products.head(10)"
   ]
  },
  {
   "source": [
    "### Question 7: How to Decrease Product aging? \n",
    "\n",
    "To decrease product aging, <br>\n",
    "\n",
    "1. Liquidate Inventory <br>\n",
    "2. Sales/Offers <br>\n",
    "3. Donation (Can help in CSR activities and saving taxes) <br>\n",
    "4. Give out aged products for free as promotional offer and increase your customer reach"
   ],
   "cell_type": "markdown",
   "metadata": {}
  },
  {
   "source": [
    "# <center> ANALYSIS FOR OUT OF STOCK </center>"
   ],
   "cell_type": "markdown",
   "metadata": {}
  },
  {
   "cell_type": "code",
   "execution_count": 43,
   "metadata": {},
   "outputs": [
    {
     "output_type": "execute_result",
     "data": {
      "text/plain": [
       "   category                manufacturer part_number     sku  \\\n",
       "0      1539  MS-OPEN VALUE SUBSCRIPTION   021-09108  BA0011   \n",
       "1      1539  MS-OPEN VALUE SUBSCRIPTION   059-07014  BA0025   \n",
       "2      1539  MS-OPEN VALUE SUBSCRIPTION   065-06444  BA0039   \n",
       "3      1539  MS-OPEN VALUE SUBSCRIPTION   076-04355  BA0067   \n",
       "4      1582  MS-OPEN VALUE SUBSCRIPTION   077-05318  BA0080   \n",
       "\n",
       "                            description    status  qty   price  \\\n",
       "0  1YR OFFICESTD ALNG LICSAPK OLV, D AP  No Stock    0  143.58   \n",
       "1       1YR WORD ALNG LICSAPK OLV D AP,  No Stock    0   56.09   \n",
       "2      1YR EXCEL ALNG LICSAPK OLV D AP,  No Stock    0   56.09   \n",
       "3      1YR PRJCT ALNG LICSAPK OLV D AP,  No Stock    0  217.60   \n",
       "4     1YR ACCESS ALNG LICSAPK OLV D, AP  No Stock    0   56.09   \n",
       "\n",
       "  sku_create_date  Revenue  \n",
       "0      2020-08-17      0.0  \n",
       "1      2020-08-17      0.0  \n",
       "2      2020-08-17      0.0  \n",
       "3      2020-08-17      0.0  \n",
       "4      2020-08-17      0.0  "
      ],
      "text/html": "<div>\n<style scoped>\n    .dataframe tbody tr th:only-of-type {\n        vertical-align: middle;\n    }\n\n    .dataframe tbody tr th {\n        vertical-align: top;\n    }\n\n    .dataframe thead th {\n        text-align: right;\n    }\n</style>\n<table border=\"1\" class=\"dataframe\">\n  <thead>\n    <tr style=\"text-align: right;\">\n      <th></th>\n      <th>category</th>\n      <th>manufacturer</th>\n      <th>part_number</th>\n      <th>sku</th>\n      <th>description</th>\n      <th>status</th>\n      <th>qty</th>\n      <th>price</th>\n      <th>sku_create_date</th>\n      <th>Revenue</th>\n    </tr>\n  </thead>\n  <tbody>\n    <tr>\n      <th>0</th>\n      <td>1539</td>\n      <td>MS-OPEN VALUE SUBSCRIPTION</td>\n      <td>021-09108</td>\n      <td>BA0011</td>\n      <td>1YR OFFICESTD ALNG LICSAPK OLV, D AP</td>\n      <td>No Stock</td>\n      <td>0</td>\n      <td>143.58</td>\n      <td>2020-08-17</td>\n      <td>0.0</td>\n    </tr>\n    <tr>\n      <th>1</th>\n      <td>1539</td>\n      <td>MS-OPEN VALUE SUBSCRIPTION</td>\n      <td>059-07014</td>\n      <td>BA0025</td>\n      <td>1YR WORD ALNG LICSAPK OLV D AP,</td>\n      <td>No Stock</td>\n      <td>0</td>\n      <td>56.09</td>\n      <td>2020-08-17</td>\n      <td>0.0</td>\n    </tr>\n    <tr>\n      <th>2</th>\n      <td>1539</td>\n      <td>MS-OPEN VALUE SUBSCRIPTION</td>\n      <td>065-06444</td>\n      <td>BA0039</td>\n      <td>1YR EXCEL ALNG LICSAPK OLV D AP,</td>\n      <td>No Stock</td>\n      <td>0</td>\n      <td>56.09</td>\n      <td>2020-08-17</td>\n      <td>0.0</td>\n    </tr>\n    <tr>\n      <th>3</th>\n      <td>1539</td>\n      <td>MS-OPEN VALUE SUBSCRIPTION</td>\n      <td>076-04355</td>\n      <td>BA0067</td>\n      <td>1YR PRJCT ALNG LICSAPK OLV D AP,</td>\n      <td>No Stock</td>\n      <td>0</td>\n      <td>217.60</td>\n      <td>2020-08-17</td>\n      <td>0.0</td>\n    </tr>\n    <tr>\n      <th>4</th>\n      <td>1582</td>\n      <td>MS-OPEN VALUE SUBSCRIPTION</td>\n      <td>077-05318</td>\n      <td>BA0080</td>\n      <td>1YR ACCESS ALNG LICSAPK OLV D, AP</td>\n      <td>No Stock</td>\n      <td>0</td>\n      <td>56.09</td>\n      <td>2020-08-17</td>\n      <td>0.0</td>\n    </tr>\n  </tbody>\n</table>\n</div>"
     },
     "metadata": {},
     "execution_count": 43
    }
   ],
   "source": [
    "outstock_df.head()"
   ]
  },
  {
   "source": [
    "### Question 1: Which are the top Manufacturers with price, quantity?\n",
    "Assuming top manufacturers are the ones which produce highest quantities of a product. <br> <br>\n",
    "The Top 10 manufacturers based on quantity produced for out of stock products are :"
   ],
   "cell_type": "markdown",
   "metadata": {}
  },
  {
   "cell_type": "code",
   "execution_count": 44,
   "metadata": {},
   "outputs": [
    {
     "output_type": "execute_result",
     "data": {
      "text/plain": [
       "Empty DataFrame\n",
       "Columns: [category, manufacturer, part_number, sku, description, status, qty, price, sku_create_date, Revenue]\n",
       "Index: []"
      ],
      "text/html": "<div>\n<style scoped>\n    .dataframe tbody tr th:only-of-type {\n        vertical-align: middle;\n    }\n\n    .dataframe tbody tr th {\n        vertical-align: top;\n    }\n\n    .dataframe thead th {\n        text-align: right;\n    }\n</style>\n<table border=\"1\" class=\"dataframe\">\n  <thead>\n    <tr style=\"text-align: right;\">\n      <th></th>\n      <th>category</th>\n      <th>manufacturer</th>\n      <th>part_number</th>\n      <th>sku</th>\n      <th>description</th>\n      <th>status</th>\n      <th>qty</th>\n      <th>price</th>\n      <th>sku_create_date</th>\n      <th>Revenue</th>\n    </tr>\n  </thead>\n  <tbody>\n  </tbody>\n</table>\n</div>"
     },
     "metadata": {},
     "execution_count": 44
    }
   ],
   "source": [
    "outstock_df[outstock_df['qty']>0]"
   ]
  },
  {
   "cell_type": "code",
   "execution_count": 45,
   "metadata": {},
   "outputs": [
    {
     "output_type": "stream",
     "name": "stdout",
     "text": [
      "The Top 10 manufacturers based on price for out of stock products are :\n"
     ]
    },
    {
     "output_type": "execute_result",
     "data": {
      "text/plain": [
       "                         manufacturer        price\n",
       "57                             ALTNET  84974533.10\n",
       "717              JUNIPER ROW SERVICES  10449000.00\n",
       "709        JUNIPER ENTERPRISE ROUTING   5600000.00\n",
       "231            CISCO - CCW MULTI YEAR   4700430.00\n",
       "590       HPE - ENTERPRISE NETWORKING   4173518.27\n",
       "636                     IGEL SOFTWARE   3609856.25\n",
       "779         LENOVO DCG SERVER OPTIONS   3552553.59\n",
       "1111  SECURE CHANNELS INC DIRECT SHIP   2447266.55\n",
       "980                      PLANAR DVLED   1939032.30\n",
       "596              HPE - SERVER OPTIONS   1627920.00"
      ],
      "text/html": "<div>\n<style scoped>\n    .dataframe tbody tr th:only-of-type {\n        vertical-align: middle;\n    }\n\n    .dataframe tbody tr th {\n        vertical-align: top;\n    }\n\n    .dataframe thead th {\n        text-align: right;\n    }\n</style>\n<table border=\"1\" class=\"dataframe\">\n  <thead>\n    <tr style=\"text-align: right;\">\n      <th></th>\n      <th>manufacturer</th>\n      <th>price</th>\n    </tr>\n  </thead>\n  <tbody>\n    <tr>\n      <th>57</th>\n      <td>ALTNET</td>\n      <td>84974533.10</td>\n    </tr>\n    <tr>\n      <th>717</th>\n      <td>JUNIPER ROW SERVICES</td>\n      <td>10449000.00</td>\n    </tr>\n    <tr>\n      <th>709</th>\n      <td>JUNIPER ENTERPRISE ROUTING</td>\n      <td>5600000.00</td>\n    </tr>\n    <tr>\n      <th>231</th>\n      <td>CISCO - CCW MULTI YEAR</td>\n      <td>4700430.00</td>\n    </tr>\n    <tr>\n      <th>590</th>\n      <td>HPE - ENTERPRISE NETWORKING</td>\n      <td>4173518.27</td>\n    </tr>\n    <tr>\n      <th>636</th>\n      <td>IGEL SOFTWARE</td>\n      <td>3609856.25</td>\n    </tr>\n    <tr>\n      <th>779</th>\n      <td>LENOVO DCG SERVER OPTIONS</td>\n      <td>3552553.59</td>\n    </tr>\n    <tr>\n      <th>1111</th>\n      <td>SECURE CHANNELS INC DIRECT SHIP</td>\n      <td>2447266.55</td>\n    </tr>\n    <tr>\n      <th>980</th>\n      <td>PLANAR DVLED</td>\n      <td>1939032.30</td>\n    </tr>\n    <tr>\n      <th>596</th>\n      <td>HPE - SERVER OPTIONS</td>\n      <td>1627920.00</td>\n    </tr>\n  </tbody>\n</table>\n</div>"
     },
     "metadata": {},
     "execution_count": 45
    }
   ],
   "source": [
    "print(\"The Top 10 manufacturers based on price for out of stock products are :\")\n",
    "outstock_df.groupby(['manufacturer'],as_index=False)['price'].max().sort_values('price',ascending=False).head(10)"
   ]
  },
  {
   "source": [
    "### Question 2: Which are the most profitable products? \n",
    "For out of stock products, qty = 0 , so revenue = 0 <br>\n",
    "\n",
    "Since, profitable products are the ones that have large margin, so we can assume that profitable products will the ones have maximum price.\n"
   ],
   "cell_type": "markdown",
   "metadata": {}
  },
  {
   "cell_type": "code",
   "execution_count": 46,
   "metadata": {},
   "outputs": [
    {
     "output_type": "execute_result",
     "data": {
      "text/plain": [
       "                                              description        price\n",
       "129283  ALTNET TPM UP TO 240000000 USD, LIST MNT UPTO ...  84974533.10\n",
       "129756  ALTNET TPM UP TO 80000000 USD, LIST MNT UPTO 8...  28324844.37\n",
       "251188                  ROW 5YR SWA SUP FOR, JCE-1000GBPS  10449000.00\n",
       "251184                  ROW 3YR SWA SUP FOR, JCE-1000GBPS   6966000.00\n",
       "8598                 1000 UNIT BNDL OF, QSFP-100GBASE-LR4   5600000.00\n",
       "154600  CCW ONLY SWSS UPG 3YR DISTI, SO=INTELL AUTOCLD...   4700430.00\n",
       "153776  CCW ONLY SWSS UPG 3YR DISTI SO=, CSC IA CLD 3....   4476600.00\n",
       "89099            3YR RH ANS TWR+ENG SY 10000N, 24X7 E-LTU   4173518.27\n",
       "154656  CCW ONLY SWSS UPG 3YR DISTI, TR-069 MGMT FOR 6...   3837086.35\n",
       "312235      WORKSPACE ED LICS ELA W/, 1YR MNT 100000 LICS   3609856.25"
      ],
      "text/html": "<div>\n<style scoped>\n    .dataframe tbody tr th:only-of-type {\n        vertical-align: middle;\n    }\n\n    .dataframe tbody tr th {\n        vertical-align: top;\n    }\n\n    .dataframe thead th {\n        text-align: right;\n    }\n</style>\n<table border=\"1\" class=\"dataframe\">\n  <thead>\n    <tr style=\"text-align: right;\">\n      <th></th>\n      <th>description</th>\n      <th>price</th>\n    </tr>\n  </thead>\n  <tbody>\n    <tr>\n      <th>129283</th>\n      <td>ALTNET TPM UP TO 240000000 USD, LIST MNT UPTO ...</td>\n      <td>84974533.10</td>\n    </tr>\n    <tr>\n      <th>129756</th>\n      <td>ALTNET TPM UP TO 80000000 USD, LIST MNT UPTO 8...</td>\n      <td>28324844.37</td>\n    </tr>\n    <tr>\n      <th>251188</th>\n      <td>ROW 5YR SWA SUP FOR, JCE-1000GBPS</td>\n      <td>10449000.00</td>\n    </tr>\n    <tr>\n      <th>251184</th>\n      <td>ROW 3YR SWA SUP FOR, JCE-1000GBPS</td>\n      <td>6966000.00</td>\n    </tr>\n    <tr>\n      <th>8598</th>\n      <td>1000 UNIT BNDL OF, QSFP-100GBASE-LR4</td>\n      <td>5600000.00</td>\n    </tr>\n    <tr>\n      <th>154600</th>\n      <td>CCW ONLY SWSS UPG 3YR DISTI, SO=INTELL AUTOCLD...</td>\n      <td>4700430.00</td>\n    </tr>\n    <tr>\n      <th>153776</th>\n      <td>CCW ONLY SWSS UPG 3YR DISTI SO=, CSC IA CLD 3....</td>\n      <td>4476600.00</td>\n    </tr>\n    <tr>\n      <th>89099</th>\n      <td>3YR RH ANS TWR+ENG SY 10000N, 24X7 E-LTU</td>\n      <td>4173518.27</td>\n    </tr>\n    <tr>\n      <th>154656</th>\n      <td>CCW ONLY SWSS UPG 3YR DISTI, TR-069 MGMT FOR 6...</td>\n      <td>3837086.35</td>\n    </tr>\n    <tr>\n      <th>312235</th>\n      <td>WORKSPACE ED LICS ELA W/, 1YR MNT 100000 LICS</td>\n      <td>3609856.25</td>\n    </tr>\n  </tbody>\n</table>\n</div>"
     },
     "metadata": {},
     "execution_count": 46
    }
   ],
   "source": [
    "qo2 = outstock_df.groupby('description',as_index=False)['price'].max().sort_values(by='price', ascending=False)\n",
    "qo2.head(10)"
   ]
  },
  {
   "source": [
    "### Question 3: Which is the product where you have seen a decrease in the price? "
   ],
   "cell_type": "markdown",
   "metadata": {}
  },
  {
   "source": [
    "Steps followed here are same as that in instock_df."
   ],
   "cell_type": "markdown",
   "metadata": {}
  },
  {
   "source": [
    "outstock_df = outstock_df.sort_values(\"sku_create_date\")\n",
    "outstock_df['price_diff'] = outstock_df.groupby('description')['price'].diff().fillna(0)\n",
    "outstock_df.head(10)"
   ],
   "cell_type": "code",
   "metadata": {},
   "execution_count": 47,
   "outputs": [
    {
     "output_type": "execute_result",
     "data": {
      "text/plain": [
       "        category                 manufacturer part_number     sku  \\\n",
       "0           1539   MS-OPEN VALUE SUBSCRIPTION   021-09108  BA0011   \n",
       "667924      9920  KENSINGTON TECHNOLOGY GROUP    K67951US  3V1652   \n",
       "667919      9920  KENSINGTON TECHNOLOGY GROUP    K67951US  3V1652   \n",
       "667918      9920  KENSINGTON TECHNOLOGY GROUP    K67951US  3V1652   \n",
       "667910      9920  KENSINGTON TECHNOLOGY GROUP    K67949US  3V1651   \n",
       "667905      9920  KENSINGTON TECHNOLOGY GROUP    K67949US  3V1651   \n",
       "667904      9920  KENSINGTON TECHNOLOGY GROUP    K67949US  3V1651   \n",
       "667868      9920  KENSINGTON TECHNOLOGY GROUP    K67945US  3V1647   \n",
       "667863      9920  KENSINGTON TECHNOLOGY GROUP    K67945US  3V1647   \n",
       "667862      9920  KENSINGTON TECHNOLOGY GROUP    K67945US  3V1647   \n",
       "\n",
       "                                              description    status  qty  \\\n",
       "0                    1YR OFFICESTD ALNG LICSAPK OLV, D AP  No Stock    0   \n",
       "667924  CUSTOM WINDFALL FRAME IPAD, FOR IPAD AIR AIR 2...  No Stock    0   \n",
       "667919  CUSTOM WINDFALL FRAME IPAD, FOR IPAD AIR AIR 2...  No Stock    0   \n",
       "667918  CUSTOM WINDFALL FRAME IPAD, FOR IPAD AIR AIR 2...  No Stock    0   \n",
       "667910  WINDFALL CONF ROOMS IPAD MINI, SUPPORTS ALL IP...  No Stock    0   \n",
       "667905  WINDFALL CONF ROOMS IPAD MINI, SUPPORTS ALL IP...  No Stock    0   \n",
       "667904  WINDFALL CONF ROOMS IPAD MINI, SUPPORTS ALL IP...  No Stock    0   \n",
       "667868                    WINDFALL FRAME SURFACE PRO 3/4,  No Stock    0   \n",
       "667863                    WINDFALL FRAME SURFACE PRO 3/4,  No Stock    0   \n",
       "667862                    WINDFALL FRAME SURFACE PRO 3/4,  No Stock    0   \n",
       "\n",
       "         price sku_create_date  Revenue  price_diff  \n",
       "0       143.58      2020-08-17      0.0        0.00  \n",
       "667924   93.03      2020-08-17      0.0        0.00  \n",
       "667919   92.11      2020-08-17      0.0       -0.92  \n",
       "667918   94.85      2020-08-17      0.0        2.74  \n",
       "667910  101.23      2020-08-17      0.0        0.00  \n",
       "667905  100.23      2020-08-17      0.0       -1.00  \n",
       "667904  103.22      2020-08-17      0.0        2.99  \n",
       "667868  101.23      2020-08-17      0.0        0.00  \n",
       "667863  100.23      2020-08-17      0.0       -1.00  \n",
       "667862  103.22      2020-08-17      0.0        2.99  "
      ],
      "text/html": "<div>\n<style scoped>\n    .dataframe tbody tr th:only-of-type {\n        vertical-align: middle;\n    }\n\n    .dataframe tbody tr th {\n        vertical-align: top;\n    }\n\n    .dataframe thead th {\n        text-align: right;\n    }\n</style>\n<table border=\"1\" class=\"dataframe\">\n  <thead>\n    <tr style=\"text-align: right;\">\n      <th></th>\n      <th>category</th>\n      <th>manufacturer</th>\n      <th>part_number</th>\n      <th>sku</th>\n      <th>description</th>\n      <th>status</th>\n      <th>qty</th>\n      <th>price</th>\n      <th>sku_create_date</th>\n      <th>Revenue</th>\n      <th>price_diff</th>\n    </tr>\n  </thead>\n  <tbody>\n    <tr>\n      <th>0</th>\n      <td>1539</td>\n      <td>MS-OPEN VALUE SUBSCRIPTION</td>\n      <td>021-09108</td>\n      <td>BA0011</td>\n      <td>1YR OFFICESTD ALNG LICSAPK OLV, D AP</td>\n      <td>No Stock</td>\n      <td>0</td>\n      <td>143.58</td>\n      <td>2020-08-17</td>\n      <td>0.0</td>\n      <td>0.00</td>\n    </tr>\n    <tr>\n      <th>667924</th>\n      <td>9920</td>\n      <td>KENSINGTON TECHNOLOGY GROUP</td>\n      <td>K67951US</td>\n      <td>3V1652</td>\n      <td>CUSTOM WINDFALL FRAME IPAD, FOR IPAD AIR AIR 2...</td>\n      <td>No Stock</td>\n      <td>0</td>\n      <td>93.03</td>\n      <td>2020-08-17</td>\n      <td>0.0</td>\n      <td>0.00</td>\n    </tr>\n    <tr>\n      <th>667919</th>\n      <td>9920</td>\n      <td>KENSINGTON TECHNOLOGY GROUP</td>\n      <td>K67951US</td>\n      <td>3V1652</td>\n      <td>CUSTOM WINDFALL FRAME IPAD, FOR IPAD AIR AIR 2...</td>\n      <td>No Stock</td>\n      <td>0</td>\n      <td>92.11</td>\n      <td>2020-08-17</td>\n      <td>0.0</td>\n      <td>-0.92</td>\n    </tr>\n    <tr>\n      <th>667918</th>\n      <td>9920</td>\n      <td>KENSINGTON TECHNOLOGY GROUP</td>\n      <td>K67951US</td>\n      <td>3V1652</td>\n      <td>CUSTOM WINDFALL FRAME IPAD, FOR IPAD AIR AIR 2...</td>\n      <td>No Stock</td>\n      <td>0</td>\n      <td>94.85</td>\n      <td>2020-08-17</td>\n      <td>0.0</td>\n      <td>2.74</td>\n    </tr>\n    <tr>\n      <th>667910</th>\n      <td>9920</td>\n      <td>KENSINGTON TECHNOLOGY GROUP</td>\n      <td>K67949US</td>\n      <td>3V1651</td>\n      <td>WINDFALL CONF ROOMS IPAD MINI, SUPPORTS ALL IP...</td>\n      <td>No Stock</td>\n      <td>0</td>\n      <td>101.23</td>\n      <td>2020-08-17</td>\n      <td>0.0</td>\n      <td>0.00</td>\n    </tr>\n    <tr>\n      <th>667905</th>\n      <td>9920</td>\n      <td>KENSINGTON TECHNOLOGY GROUP</td>\n      <td>K67949US</td>\n      <td>3V1651</td>\n      <td>WINDFALL CONF ROOMS IPAD MINI, SUPPORTS ALL IP...</td>\n      <td>No Stock</td>\n      <td>0</td>\n      <td>100.23</td>\n      <td>2020-08-17</td>\n      <td>0.0</td>\n      <td>-1.00</td>\n    </tr>\n    <tr>\n      <th>667904</th>\n      <td>9920</td>\n      <td>KENSINGTON TECHNOLOGY GROUP</td>\n      <td>K67949US</td>\n      <td>3V1651</td>\n      <td>WINDFALL CONF ROOMS IPAD MINI, SUPPORTS ALL IP...</td>\n      <td>No Stock</td>\n      <td>0</td>\n      <td>103.22</td>\n      <td>2020-08-17</td>\n      <td>0.0</td>\n      <td>2.99</td>\n    </tr>\n    <tr>\n      <th>667868</th>\n      <td>9920</td>\n      <td>KENSINGTON TECHNOLOGY GROUP</td>\n      <td>K67945US</td>\n      <td>3V1647</td>\n      <td>WINDFALL FRAME SURFACE PRO 3/4,</td>\n      <td>No Stock</td>\n      <td>0</td>\n      <td>101.23</td>\n      <td>2020-08-17</td>\n      <td>0.0</td>\n      <td>0.00</td>\n    </tr>\n    <tr>\n      <th>667863</th>\n      <td>9920</td>\n      <td>KENSINGTON TECHNOLOGY GROUP</td>\n      <td>K67945US</td>\n      <td>3V1647</td>\n      <td>WINDFALL FRAME SURFACE PRO 3/4,</td>\n      <td>No Stock</td>\n      <td>0</td>\n      <td>100.23</td>\n      <td>2020-08-17</td>\n      <td>0.0</td>\n      <td>-1.00</td>\n    </tr>\n    <tr>\n      <th>667862</th>\n      <td>9920</td>\n      <td>KENSINGTON TECHNOLOGY GROUP</td>\n      <td>K67945US</td>\n      <td>3V1647</td>\n      <td>WINDFALL FRAME SURFACE PRO 3/4,</td>\n      <td>No Stock</td>\n      <td>0</td>\n      <td>103.22</td>\n      <td>2020-08-17</td>\n      <td>0.0</td>\n      <td>2.99</td>\n    </tr>\n  </tbody>\n</table>\n</div>"
     },
     "metadata": {},
     "execution_count": 47
    }
   ]
  },
  {
   "cell_type": "code",
   "execution_count": 48,
   "metadata": {},
   "outputs": [
    {
     "output_type": "stream",
     "name": "stdout",
     "text": [
      "Top 10 products that show maximum decrease in price (Period=1)\n"
     ]
    },
    {
     "output_type": "execute_result",
     "data": {
      "text/plain": [
       "         category                     manufacturer           part_number  \\\n",
       "1653733      1221           CISCO - CCW MULTI YEAR    CON-3ECMU-LTCAEES3   \n",
       "2348891      1221           CISCO - CCW MULTI YEAR    CON-3ECMU-LTCAEES3   \n",
       "2348851      1221           CISCO - CCW MULTI YEAR    CON-3ECMU-LPHOME6M   \n",
       "2068605      1211                     PLANAR DVLED        106621 INSTALL   \n",
       "1653603      1221           CISCO - CCW MULTI YEAR    CON-3ECMU-LNCPS3UK   \n",
       "388521       1221           CISCO - CCW MULTI YEAR    CON-3ECMU-LNCPS3UK   \n",
       "2348826      1221           CISCO - CCW MULTI YEAR    CON-3ECMU-LNCPS3UK   \n",
       "426242       1231  SECURE CHANNELS INC DIRECT SHIP  SCSVCSMNGEDSEC500ENT   \n",
       "388570       1221           CISCO - CCW MULTI YEAR    CON-3ECMU-LPHOME6M   \n",
       "1777042      1241                 VMWARE - FEDERAL       MCS-PLUS-3SUP-F   \n",
       "\n",
       "            sku                                        description    status  \\\n",
       "1653733  ZA6701  CCW ONLY SWSS UPG 3YR DISTI SO=, CSC IA CLD 3....  No Stock   \n",
       "2348891  ZA6701  CCW ONLY SWSS UPG 3YR DISTI SO=, CSC IA CLD 3....  No Stock   \n",
       "2348851  ZA6661  CCW ONLY SWSS UPG 3YR DISTI, TR-069 MGMT FOR 6...  No Stock   \n",
       "2068605  5NU738                 DIRECTLIGHT 24X6, DL2 0.9 ROOM 250  No Stock   \n",
       "1653603  ZA6636      CCW ONLY SWSS UPG 3YR DISTI SO=, CLOUD PORTAL  No Stock   \n",
       "388521   ZA6636      CCW ONLY SWSS UPG 3YR DISTI SO=, CLOUD PORTAL  No Stock   \n",
       "2348826  ZA6636      CCW ONLY SWSS UPG 3YR DISTI SO=, CLOUD PORTAL  No Stock   \n",
       "426242   1F6035  SCI MANAGED SVCS ENTERPRISE, SECURITY MONITORI...  No Stock   \n",
       "388570   ZA6661  CCW ONLY SWSS UPG 3YR DISTI, TR-069 MGMT FOR 6...  No Stock   \n",
       "1777042  2NP781  FED MC + ADDL MCS COVERAGE ALA, WRKSPCE1 PRODU...  No Stock   \n",
       "\n",
       "         qty       price sku_create_date  Revenue  price_diff  \n",
       "1653733    0   909750.00      2020-08-24      0.0 -3566850.00  \n",
       "2348891    0   909750.00      2020-08-25      0.0 -2729250.00  \n",
       "2348851    0  1679538.60      2020-08-25      0.0 -2157547.75  \n",
       "2068605    0    54649.05      2020-08-24      0.0 -1884383.25  \n",
       "1653603    0   454875.00      2020-08-24      0.0 -1783425.00  \n",
       "388521     0   454875.00      2020-08-17      0.0 -1783425.00  \n",
       "2348826    0   454875.00      2020-08-25      0.0 -1364625.00  \n",
       "426242     0  1376587.43      2020-08-17      0.0 -1070679.12  \n",
       "388570     0  2066123.25      2020-08-17      0.0 -1053020.13  \n",
       "1777042    0   490386.81      2020-08-24      0.0  -980773.60  "
      ],
      "text/html": "<div>\n<style scoped>\n    .dataframe tbody tr th:only-of-type {\n        vertical-align: middle;\n    }\n\n    .dataframe tbody tr th {\n        vertical-align: top;\n    }\n\n    .dataframe thead th {\n        text-align: right;\n    }\n</style>\n<table border=\"1\" class=\"dataframe\">\n  <thead>\n    <tr style=\"text-align: right;\">\n      <th></th>\n      <th>category</th>\n      <th>manufacturer</th>\n      <th>part_number</th>\n      <th>sku</th>\n      <th>description</th>\n      <th>status</th>\n      <th>qty</th>\n      <th>price</th>\n      <th>sku_create_date</th>\n      <th>Revenue</th>\n      <th>price_diff</th>\n    </tr>\n  </thead>\n  <tbody>\n    <tr>\n      <th>1653733</th>\n      <td>1221</td>\n      <td>CISCO - CCW MULTI YEAR</td>\n      <td>CON-3ECMU-LTCAEES3</td>\n      <td>ZA6701</td>\n      <td>CCW ONLY SWSS UPG 3YR DISTI SO=, CSC IA CLD 3....</td>\n      <td>No Stock</td>\n      <td>0</td>\n      <td>909750.00</td>\n      <td>2020-08-24</td>\n      <td>0.0</td>\n      <td>-3566850.00</td>\n    </tr>\n    <tr>\n      <th>2348891</th>\n      <td>1221</td>\n      <td>CISCO - CCW MULTI YEAR</td>\n      <td>CON-3ECMU-LTCAEES3</td>\n      <td>ZA6701</td>\n      <td>CCW ONLY SWSS UPG 3YR DISTI SO=, CSC IA CLD 3....</td>\n      <td>No Stock</td>\n      <td>0</td>\n      <td>909750.00</td>\n      <td>2020-08-25</td>\n      <td>0.0</td>\n      <td>-2729250.00</td>\n    </tr>\n    <tr>\n      <th>2348851</th>\n      <td>1221</td>\n      <td>CISCO - CCW MULTI YEAR</td>\n      <td>CON-3ECMU-LPHOME6M</td>\n      <td>ZA6661</td>\n      <td>CCW ONLY SWSS UPG 3YR DISTI, TR-069 MGMT FOR 6...</td>\n      <td>No Stock</td>\n      <td>0</td>\n      <td>1679538.60</td>\n      <td>2020-08-25</td>\n      <td>0.0</td>\n      <td>-2157547.75</td>\n    </tr>\n    <tr>\n      <th>2068605</th>\n      <td>1211</td>\n      <td>PLANAR DVLED</td>\n      <td>106621 INSTALL</td>\n      <td>5NU738</td>\n      <td>DIRECTLIGHT 24X6, DL2 0.9 ROOM 250</td>\n      <td>No Stock</td>\n      <td>0</td>\n      <td>54649.05</td>\n      <td>2020-08-24</td>\n      <td>0.0</td>\n      <td>-1884383.25</td>\n    </tr>\n    <tr>\n      <th>1653603</th>\n      <td>1221</td>\n      <td>CISCO - CCW MULTI YEAR</td>\n      <td>CON-3ECMU-LNCPS3UK</td>\n      <td>ZA6636</td>\n      <td>CCW ONLY SWSS UPG 3YR DISTI SO=, CLOUD PORTAL</td>\n      <td>No Stock</td>\n      <td>0</td>\n      <td>454875.00</td>\n      <td>2020-08-24</td>\n      <td>0.0</td>\n      <td>-1783425.00</td>\n    </tr>\n    <tr>\n      <th>388521</th>\n      <td>1221</td>\n      <td>CISCO - CCW MULTI YEAR</td>\n      <td>CON-3ECMU-LNCPS3UK</td>\n      <td>ZA6636</td>\n      <td>CCW ONLY SWSS UPG 3YR DISTI SO=, CLOUD PORTAL</td>\n      <td>No Stock</td>\n      <td>0</td>\n      <td>454875.00</td>\n      <td>2020-08-17</td>\n      <td>0.0</td>\n      <td>-1783425.00</td>\n    </tr>\n    <tr>\n      <th>2348826</th>\n      <td>1221</td>\n      <td>CISCO - CCW MULTI YEAR</td>\n      <td>CON-3ECMU-LNCPS3UK</td>\n      <td>ZA6636</td>\n      <td>CCW ONLY SWSS UPG 3YR DISTI SO=, CLOUD PORTAL</td>\n      <td>No Stock</td>\n      <td>0</td>\n      <td>454875.00</td>\n      <td>2020-08-25</td>\n      <td>0.0</td>\n      <td>-1364625.00</td>\n    </tr>\n    <tr>\n      <th>426242</th>\n      <td>1231</td>\n      <td>SECURE CHANNELS INC DIRECT SHIP</td>\n      <td>SCSVCSMNGEDSEC500ENT</td>\n      <td>1F6035</td>\n      <td>SCI MANAGED SVCS ENTERPRISE, SECURITY MONITORI...</td>\n      <td>No Stock</td>\n      <td>0</td>\n      <td>1376587.43</td>\n      <td>2020-08-17</td>\n      <td>0.0</td>\n      <td>-1070679.12</td>\n    </tr>\n    <tr>\n      <th>388570</th>\n      <td>1221</td>\n      <td>CISCO - CCW MULTI YEAR</td>\n      <td>CON-3ECMU-LPHOME6M</td>\n      <td>ZA6661</td>\n      <td>CCW ONLY SWSS UPG 3YR DISTI, TR-069 MGMT FOR 6...</td>\n      <td>No Stock</td>\n      <td>0</td>\n      <td>2066123.25</td>\n      <td>2020-08-17</td>\n      <td>0.0</td>\n      <td>-1053020.13</td>\n    </tr>\n    <tr>\n      <th>1777042</th>\n      <td>1241</td>\n      <td>VMWARE - FEDERAL</td>\n      <td>MCS-PLUS-3SUP-F</td>\n      <td>2NP781</td>\n      <td>FED MC + ADDL MCS COVERAGE ALA, WRKSPCE1 PRODU...</td>\n      <td>No Stock</td>\n      <td>0</td>\n      <td>490386.81</td>\n      <td>2020-08-24</td>\n      <td>0.0</td>\n      <td>-980773.60</td>\n    </tr>\n  </tbody>\n</table>\n</div>"
     },
     "metadata": {},
     "execution_count": 48
    }
   ],
   "source": [
    "print(\"Top 10 products that show maximum decrease in price (Period=1)\")\n",
    "outstock_df.sort_values('price_diff').head(10)"
   ]
  },
  {
   "cell_type": "code",
   "execution_count": 49,
   "metadata": {},
   "outputs": [],
   "source": [
    "change_df = outstock_df.groupby('description',as_index=False)['price_diff'].sum().sort_values(by='price_diff',ascending=False)"
   ]
  },
  {
   "cell_type": "code",
   "execution_count": 50,
   "metadata": {},
   "outputs": [],
   "source": [
    "decrease = change_df[change_df['price_diff']<0]"
   ]
  },
  {
   "cell_type": "code",
   "execution_count": 51,
   "metadata": {},
   "outputs": [
    {
     "output_type": "stream",
     "name": "stdout",
     "text": [
      "Top 10 Products (L to H) on which reduction of price was maximum (Total): \n"
     ]
    },
    {
     "output_type": "execute_result",
     "data": {
      "text/plain": [
       "                                              description  price_diff\n",
       "153776  CCW ONLY SWSS UPG 3YR DISTI SO=, CSC IA CLD 3....  -418800.00\n",
       "154265  CCW ONLY SWSS UPG 3YR DISTI, PRIME COLLAB-B AS...  -462473.23\n",
       "238260     QUANTITY 150 OF EL4Q 387GB SFF, 2 4K SSD LINUX  -468467.99\n",
       "154276  CCW ONLY SWSS UPG 3YR DISTI, PRIME COLLAB-B PR...  -483910.58\n",
       "238292          QUANTITY 150 OF ES7E 775GB SFF, 2 SSD 5XX  -628213.02\n",
       "154656  CCW ONLY SWSS UPG 3YR DISTI, TR-069 MGMT FOR 6...  -717942.97\n",
       "130147                           ANNESE ONLY 2018-380048,  -722188.74\n",
       "238325                QUANTITY 150 OF ESGP 1 55TB SAS, 4K  -780127.17\n",
       "238261     QUANTITY 150 OF EL4S 775GB SFF, 2 4K SSD LINUX  -809504.34\n",
       "200357  FED MC + ADDL MCS COVERAGE ALA, WRKSPCE1 PRODU...  -980773.60"
      ],
      "text/html": "<div>\n<style scoped>\n    .dataframe tbody tr th:only-of-type {\n        vertical-align: middle;\n    }\n\n    .dataframe tbody tr th {\n        vertical-align: top;\n    }\n\n    .dataframe thead th {\n        text-align: right;\n    }\n</style>\n<table border=\"1\" class=\"dataframe\">\n  <thead>\n    <tr style=\"text-align: right;\">\n      <th></th>\n      <th>description</th>\n      <th>price_diff</th>\n    </tr>\n  </thead>\n  <tbody>\n    <tr>\n      <th>153776</th>\n      <td>CCW ONLY SWSS UPG 3YR DISTI SO=, CSC IA CLD 3....</td>\n      <td>-418800.00</td>\n    </tr>\n    <tr>\n      <th>154265</th>\n      <td>CCW ONLY SWSS UPG 3YR DISTI, PRIME COLLAB-B AS...</td>\n      <td>-462473.23</td>\n    </tr>\n    <tr>\n      <th>238260</th>\n      <td>QUANTITY 150 OF EL4Q 387GB SFF, 2 4K SSD LINUX</td>\n      <td>-468467.99</td>\n    </tr>\n    <tr>\n      <th>154276</th>\n      <td>CCW ONLY SWSS UPG 3YR DISTI, PRIME COLLAB-B PR...</td>\n      <td>-483910.58</td>\n    </tr>\n    <tr>\n      <th>238292</th>\n      <td>QUANTITY 150 OF ES7E 775GB SFF, 2 SSD 5XX</td>\n      <td>-628213.02</td>\n    </tr>\n    <tr>\n      <th>154656</th>\n      <td>CCW ONLY SWSS UPG 3YR DISTI, TR-069 MGMT FOR 6...</td>\n      <td>-717942.97</td>\n    </tr>\n    <tr>\n      <th>130147</th>\n      <td>ANNESE ONLY 2018-380048,</td>\n      <td>-722188.74</td>\n    </tr>\n    <tr>\n      <th>238325</th>\n      <td>QUANTITY 150 OF ESGP 1 55TB SAS, 4K</td>\n      <td>-780127.17</td>\n    </tr>\n    <tr>\n      <th>238261</th>\n      <td>QUANTITY 150 OF EL4S 775GB SFF, 2 4K SSD LINUX</td>\n      <td>-809504.34</td>\n    </tr>\n    <tr>\n      <th>200357</th>\n      <td>FED MC + ADDL MCS COVERAGE ALA, WRKSPCE1 PRODU...</td>\n      <td>-980773.60</td>\n    </tr>\n  </tbody>\n</table>\n</div>"
     },
     "metadata": {},
     "execution_count": 51
    }
   ],
   "source": [
    "print(\"Top 10 Products (L to H) on which reduction of price was maximum (Total): \")\n",
    "decrease.tail(10)"
   ]
  },
  {
   "source": [
    "### Question 4: Which is the product where you have seen a increase in the price? "
   ],
   "cell_type": "markdown",
   "metadata": {}
  },
  {
   "cell_type": "code",
   "execution_count": 52,
   "metadata": {},
   "outputs": [
    {
     "output_type": "stream",
     "name": "stdout",
     "text": [
      "Top 10 products that show maximum increase in price (Period=1)\n"
     ]
    },
    {
     "output_type": "execute_result",
     "data": {
      "text/plain": [
       "         category                     manufacturer           part_number  \\\n",
       "388652       1221           CISCO - CCW MULTI YEAR    CON-3ECMU-LTCAEEX3   \n",
       "426245       1231  SECURE CHANNELS INC DIRECT SHIP  SCSVCSMNGEDSEC1000EN   \n",
       "1691227      1231  SECURE CHANNELS INC DIRECT SHIP  SCSVCSMNGEDSEC1000EN   \n",
       "2068604       317                     PLANAR DVLED   106621 NETWORK COMM   \n",
       "804208        317                     PLANAR DVLED   106621 NETWORK COMM   \n",
       "2348850      1221           CISCO - CCW MULTI YEAR    CON-3ECMU-LPHOME6S   \n",
       "1691226      1231  SECURE CHANNELS INC DIRECT SHIP  SCSVCSMNGEDSEC1000PR   \n",
       "426244       1231  SECURE CHANNELS INC DIRECT SHIP  SCSVCSMNGEDSEC1000PR   \n",
       "2348892      1221           CISCO - CCW MULTI YEAR    CON-3ECMU-LTCAEEX3   \n",
       "1653605      1221           CISCO - CCW MULTI YEAR    CON-3ECMU-LNCPX3UK   \n",
       "\n",
       "            sku                                        description    status  \\\n",
       "388652   ZA6702  CCW ONLY SWSS UPG 3YR DISTI SO=, CSC IA CLD 3....  No Stock   \n",
       "426245   1F6038  SCI MANAGED SVCS ENTERPRISE, SECURITY MONITORI...  No Stock   \n",
       "1691227  1F6038  SCI MANAGED SVCS ENTERPRISE, SECURITY MONITORI...  No Stock   \n",
       "2068604  5NU737                 DIRECTLIGHT 24X6, DL2 0.9 ROOM 250  No Stock   \n",
       "804208   5NU737                 DIRECTLIGHT 24X6, DL2 0.9 ROOM 250  No Stock   \n",
       "2348850  ZA6660  CCW ONLY SWSS UPG 3YR DISTI, TR-069 MGMT FOR 6...  No Stock   \n",
       "1691226  1F6037  SCI MANAGED SVCS PROF SECURITY, MONITORING MNT...  No Stock   \n",
       "426244   1F6037  SCI MANAGED SVCS PROF SECURITY, MONITORING MNT...  No Stock   \n",
       "2348892  ZA6702  CCW ONLY SWSS UPG 3YR DISTI SO=, CSC IA CLD 3....  No Stock   \n",
       "1653605  ZA6637      CCW ONLY SWSS UPG 3YR DISTI SO=, CLOUD PORTAL  No Stock   \n",
       "\n",
       "         qty       price sku_create_date  Revenue  price_diff  \n",
       "388652     0  4476600.00      2020-08-17      0.0  3566850.00  \n",
       "426245     0  2447266.55      2020-08-17      0.0  2141358.23  \n",
       "1691227    0  2447266.55      2020-08-24      0.0  2141358.23  \n",
       "2068604    0  1939032.30      2020-08-24      0.0  1884383.25  \n",
       "804208     0  1939032.30      2020-08-17      0.0  1884383.25  \n",
       "2348850    0  3119143.38      2020-08-25      0.0  1439604.78  \n",
       "1691226    0  1631511.03      2020-08-24      0.0  1427572.15  \n",
       "426244     0  1631511.03      2020-08-17      0.0  1427572.15  \n",
       "2348892    0  3639000.00      2020-08-25      0.0  1400700.00  \n",
       "1653605    0  1819500.00      2020-08-24      0.0  1259925.00  "
      ],
      "text/html": "<div>\n<style scoped>\n    .dataframe tbody tr th:only-of-type {\n        vertical-align: middle;\n    }\n\n    .dataframe tbody tr th {\n        vertical-align: top;\n    }\n\n    .dataframe thead th {\n        text-align: right;\n    }\n</style>\n<table border=\"1\" class=\"dataframe\">\n  <thead>\n    <tr style=\"text-align: right;\">\n      <th></th>\n      <th>category</th>\n      <th>manufacturer</th>\n      <th>part_number</th>\n      <th>sku</th>\n      <th>description</th>\n      <th>status</th>\n      <th>qty</th>\n      <th>price</th>\n      <th>sku_create_date</th>\n      <th>Revenue</th>\n      <th>price_diff</th>\n    </tr>\n  </thead>\n  <tbody>\n    <tr>\n      <th>388652</th>\n      <td>1221</td>\n      <td>CISCO - CCW MULTI YEAR</td>\n      <td>CON-3ECMU-LTCAEEX3</td>\n      <td>ZA6702</td>\n      <td>CCW ONLY SWSS UPG 3YR DISTI SO=, CSC IA CLD 3....</td>\n      <td>No Stock</td>\n      <td>0</td>\n      <td>4476600.00</td>\n      <td>2020-08-17</td>\n      <td>0.0</td>\n      <td>3566850.00</td>\n    </tr>\n    <tr>\n      <th>426245</th>\n      <td>1231</td>\n      <td>SECURE CHANNELS INC DIRECT SHIP</td>\n      <td>SCSVCSMNGEDSEC1000EN</td>\n      <td>1F6038</td>\n      <td>SCI MANAGED SVCS ENTERPRISE, SECURITY MONITORI...</td>\n      <td>No Stock</td>\n      <td>0</td>\n      <td>2447266.55</td>\n      <td>2020-08-17</td>\n      <td>0.0</td>\n      <td>2141358.23</td>\n    </tr>\n    <tr>\n      <th>1691227</th>\n      <td>1231</td>\n      <td>SECURE CHANNELS INC DIRECT SHIP</td>\n      <td>SCSVCSMNGEDSEC1000EN</td>\n      <td>1F6038</td>\n      <td>SCI MANAGED SVCS ENTERPRISE, SECURITY MONITORI...</td>\n      <td>No Stock</td>\n      <td>0</td>\n      <td>2447266.55</td>\n      <td>2020-08-24</td>\n      <td>0.0</td>\n      <td>2141358.23</td>\n    </tr>\n    <tr>\n      <th>2068604</th>\n      <td>317</td>\n      <td>PLANAR DVLED</td>\n      <td>106621 NETWORK COMM</td>\n      <td>5NU737</td>\n      <td>DIRECTLIGHT 24X6, DL2 0.9 ROOM 250</td>\n      <td>No Stock</td>\n      <td>0</td>\n      <td>1939032.30</td>\n      <td>2020-08-24</td>\n      <td>0.0</td>\n      <td>1884383.25</td>\n    </tr>\n    <tr>\n      <th>804208</th>\n      <td>317</td>\n      <td>PLANAR DVLED</td>\n      <td>106621 NETWORK COMM</td>\n      <td>5NU737</td>\n      <td>DIRECTLIGHT 24X6, DL2 0.9 ROOM 250</td>\n      <td>No Stock</td>\n      <td>0</td>\n      <td>1939032.30</td>\n      <td>2020-08-17</td>\n      <td>0.0</td>\n      <td>1884383.25</td>\n    </tr>\n    <tr>\n      <th>2348850</th>\n      <td>1221</td>\n      <td>CISCO - CCW MULTI YEAR</td>\n      <td>CON-3ECMU-LPHOME6S</td>\n      <td>ZA6660</td>\n      <td>CCW ONLY SWSS UPG 3YR DISTI, TR-069 MGMT FOR 6...</td>\n      <td>No Stock</td>\n      <td>0</td>\n      <td>3119143.38</td>\n      <td>2020-08-25</td>\n      <td>0.0</td>\n      <td>1439604.78</td>\n    </tr>\n    <tr>\n      <th>1691226</th>\n      <td>1231</td>\n      <td>SECURE CHANNELS INC DIRECT SHIP</td>\n      <td>SCSVCSMNGEDSEC1000PR</td>\n      <td>1F6037</td>\n      <td>SCI MANAGED SVCS PROF SECURITY, MONITORING MNT...</td>\n      <td>No Stock</td>\n      <td>0</td>\n      <td>1631511.03</td>\n      <td>2020-08-24</td>\n      <td>0.0</td>\n      <td>1427572.15</td>\n    </tr>\n    <tr>\n      <th>426244</th>\n      <td>1231</td>\n      <td>SECURE CHANNELS INC DIRECT SHIP</td>\n      <td>SCSVCSMNGEDSEC1000PR</td>\n      <td>1F6037</td>\n      <td>SCI MANAGED SVCS PROF SECURITY, MONITORING MNT...</td>\n      <td>No Stock</td>\n      <td>0</td>\n      <td>1631511.03</td>\n      <td>2020-08-17</td>\n      <td>0.0</td>\n      <td>1427572.15</td>\n    </tr>\n    <tr>\n      <th>2348892</th>\n      <td>1221</td>\n      <td>CISCO - CCW MULTI YEAR</td>\n      <td>CON-3ECMU-LTCAEEX3</td>\n      <td>ZA6702</td>\n      <td>CCW ONLY SWSS UPG 3YR DISTI SO=, CSC IA CLD 3....</td>\n      <td>No Stock</td>\n      <td>0</td>\n      <td>3639000.00</td>\n      <td>2020-08-25</td>\n      <td>0.0</td>\n      <td>1400700.00</td>\n    </tr>\n    <tr>\n      <th>1653605</th>\n      <td>1221</td>\n      <td>CISCO - CCW MULTI YEAR</td>\n      <td>CON-3ECMU-LNCPX3UK</td>\n      <td>ZA6637</td>\n      <td>CCW ONLY SWSS UPG 3YR DISTI SO=, CLOUD PORTAL</td>\n      <td>No Stock</td>\n      <td>0</td>\n      <td>1819500.00</td>\n      <td>2020-08-24</td>\n      <td>0.0</td>\n      <td>1259925.00</td>\n    </tr>\n  </tbody>\n</table>\n</div>"
     },
     "metadata": {},
     "execution_count": 52
    }
   ],
   "source": [
    "print(\"Top 10 products that show maximum increase in price (Period=1)\")\n",
    "outstock_df.sort_values('price_diff',ascending=False).head(10)"
   ]
  },
  {
   "cell_type": "code",
   "execution_count": 53,
   "metadata": {},
   "outputs": [],
   "source": [
    "increase = change_df[change_df['price_diff']>0]"
   ]
  },
  {
   "cell_type": "code",
   "execution_count": 54,
   "metadata": {},
   "outputs": [
    {
     "output_type": "stream",
     "name": "stdout",
     "text": [
      "Top 10 Products on which increase in price was maximum (Total): \n"
     ]
    },
    {
     "output_type": "execute_result",
     "data": {
      "text/plain": [
       "                                              description  price_diff\n",
       "254151  SCI MANAGED SVCS ENTERPRISE, SECURITY MONITORI...  2141358.23\n",
       "186527                 DIRECTLIGHT 24X6, DL2 0.9 ROOM 250  1884383.25\n",
       "254152  SCI MANAGED SVCS PROF SECURITY, MONITORING MNT...  1427572.15\n",
       "238283  QUANTITY 150 OF ES0S 775GB SFF, 2 4K SSD AIX L...   961685.68\n",
       "254153  SCI MANAGED SVCS STD SECURITY, MONITORING MNT ...   713786.08\n",
       "182769               CTO COMPELLENT WARRANTY, EXP 6/30/19   562697.08\n",
       "238281  QUANTITY 150 OF ES0Q 387GB SFF, 2 4K SSD AIX L...   556572.19\n",
       "152880  CCW ONLY SWSS UPG 3YR DISTI BAC, 500 000 SUBSC...   243813.00\n",
       "154277  CCW ONLY SWSS UPG 3YR DISTI, PRIME COLLAB-B PR...   195981.99\n",
       "235633                    PROFESSIONAL SVCS BACKUP CLOUD,   189063.80"
      ],
      "text/html": "<div>\n<style scoped>\n    .dataframe tbody tr th:only-of-type {\n        vertical-align: middle;\n    }\n\n    .dataframe tbody tr th {\n        vertical-align: top;\n    }\n\n    .dataframe thead th {\n        text-align: right;\n    }\n</style>\n<table border=\"1\" class=\"dataframe\">\n  <thead>\n    <tr style=\"text-align: right;\">\n      <th></th>\n      <th>description</th>\n      <th>price_diff</th>\n    </tr>\n  </thead>\n  <tbody>\n    <tr>\n      <th>254151</th>\n      <td>SCI MANAGED SVCS ENTERPRISE, SECURITY MONITORI...</td>\n      <td>2141358.23</td>\n    </tr>\n    <tr>\n      <th>186527</th>\n      <td>DIRECTLIGHT 24X6, DL2 0.9 ROOM 250</td>\n      <td>1884383.25</td>\n    </tr>\n    <tr>\n      <th>254152</th>\n      <td>SCI MANAGED SVCS PROF SECURITY, MONITORING MNT...</td>\n      <td>1427572.15</td>\n    </tr>\n    <tr>\n      <th>238283</th>\n      <td>QUANTITY 150 OF ES0S 775GB SFF, 2 4K SSD AIX L...</td>\n      <td>961685.68</td>\n    </tr>\n    <tr>\n      <th>254153</th>\n      <td>SCI MANAGED SVCS STD SECURITY, MONITORING MNT ...</td>\n      <td>713786.08</td>\n    </tr>\n    <tr>\n      <th>182769</th>\n      <td>CTO COMPELLENT WARRANTY, EXP 6/30/19</td>\n      <td>562697.08</td>\n    </tr>\n    <tr>\n      <th>238281</th>\n      <td>QUANTITY 150 OF ES0Q 387GB SFF, 2 4K SSD AIX L...</td>\n      <td>556572.19</td>\n    </tr>\n    <tr>\n      <th>152880</th>\n      <td>CCW ONLY SWSS UPG 3YR DISTI BAC, 500 000 SUBSC...</td>\n      <td>243813.00</td>\n    </tr>\n    <tr>\n      <th>154277</th>\n      <td>CCW ONLY SWSS UPG 3YR DISTI, PRIME COLLAB-B PR...</td>\n      <td>195981.99</td>\n    </tr>\n    <tr>\n      <th>235633</th>\n      <td>PROFESSIONAL SVCS BACKUP CLOUD,</td>\n      <td>189063.80</td>\n    </tr>\n  </tbody>\n</table>\n</div>"
     },
     "metadata": {},
     "execution_count": 54
    }
   ],
   "source": [
    "print(\"Top 10 Products on which increase in price was maximum (Total): \")\n",
    "increase.head(10)"
   ]
  },
  {
   "source": [
    "### Question 5: Which is the top category by price and quantity? "
   ],
   "cell_type": "markdown",
   "metadata": {}
  },
  {
   "cell_type": "code",
   "execution_count": 55,
   "metadata": {},
   "outputs": [],
   "source": [
    "x = outstock_df.sort_values('price',ascending = False).reset_index() \n",
    "var = x['category'][0]"
   ]
  },
  {
   "cell_type": "code",
   "execution_count": 56,
   "metadata": {},
   "outputs": [
    {
     "output_type": "stream",
     "name": "stdout",
     "text": [
      " The Top Category by price is 1231\n"
     ]
    }
   ],
   "source": [
    "print(f' The Top Category by price is {var}')"
   ]
  },
  {
   "source": [
    "Since, qty = 0 for all products in out of stock, top category by quantity can't be calculated."
   ],
   "cell_type": "markdown",
   "metadata": {}
  }
 ]
}