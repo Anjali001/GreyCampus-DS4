{
 "metadata": {
  "language_info": {
   "codemirror_mode": {
    "name": "ipython",
    "version": 3
   },
   "file_extension": ".py",
   "mimetype": "text/x-python",
   "name": "python",
   "nbconvert_exporter": "python",
   "pygments_lexer": "ipython3",
   "version": "3.7.3"
  },
  "orig_nbformat": 4,
  "kernelspec": {
   "name": "python3",
   "display_name": "Python 3.7.3 64-bit ('base': conda)"
  },
  "interpreter": {
   "hash": "2192b546f136b8fe431fa1aa29e356bd2da1ad15b043d1ea0489e9abf936fda4"
  }
 },
 "nbformat": 4,
 "nbformat_minor": 2,
 "cells": [
  {
   "source": [
    "Task: Vector (adding two vectors, subtraction and multiplication of two vectors)\n",
    "\n",
    "Matrx (adding two matrix, subtracting two matrix, and multiplication of two matrix)\n",
    "Please do it in python and submit the python file on discord\n"
   ],
   "cell_type": "markdown",
   "metadata": {}
  },
  {
   "cell_type": "code",
   "execution_count": 1,
   "metadata": {},
   "outputs": [],
   "source": [
    "import numpy as np"
   ]
  },
  {
   "cell_type": "code",
   "execution_count": 3,
   "metadata": {},
   "outputs": [],
   "source": [
    "# 1-D array is a vector\n",
    "vec1 = np.array([1,2,3])\n",
    "vec2 = np.array([4,5,6])"
   ]
  },
  {
   "cell_type": "code",
   "execution_count": 5,
   "metadata": {},
   "outputs": [
    {
     "output_type": "stream",
     "name": "stdout",
     "text": [
      "Sum of Vectors are: [5 7 9]\nDifference of Vectors are: [-3 -3 -3]\nMultiplication of Vectors is: [ 4 10 18]\n"
     ]
    }
   ],
   "source": [
    "print(f\"Sum of Vectors are: {vec1 +vec2}\")\n",
    "print(f\"Difference of Vectors are: {vec1 - vec2}\")\n",
    "print(f\"Multiplication of Vectors is: {vec1 * vec2}\")"
   ]
  },
  {
   "cell_type": "code",
   "execution_count": 6,
   "metadata": {},
   "outputs": [],
   "source": [
    "# 2-D array is a matrix\n",
    "mat1 = np.array([[1,2,3],\n",
    "[4,5,6],\n",
    "[7,8,9]])\n",
    "\n",
    "mat2 = np.array([[10,11,12],\n",
    "[13,14,15],\n",
    "[16,17,18]])"
   ]
  },
  {
   "cell_type": "code",
   "execution_count": 12,
   "metadata": {},
   "outputs": [
    {
     "output_type": "stream",
     "name": "stdout",
     "text": [
      "Sum of matrices are: \n [[11 13 15]\n [17 19 21]\n [23 25 27]]\nDifference of matrices are: \n [[-9 -9 -9]\n [-9 -9 -9]\n [-9 -9 -9]]\nMultiplication of matrices is: \n [[ 84  90  96]\n [201 216 231]\n [318 342 366]]\n"
     ]
    }
   ],
   "source": [
    "print(f\"Sum of matrices are: \\n {mat1 + mat2}\")\n",
    "print(f\"Difference of matrices are: \\n {mat1 - mat2}\")\n",
    "print(f\"Multiplication of matrices is: \\n {np.dot(mat1,mat2)}\")"
   ]
  }
 ]
}