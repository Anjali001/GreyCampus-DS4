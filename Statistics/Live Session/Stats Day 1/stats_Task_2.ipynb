{
 "metadata": {
  "language_info": {
   "codemirror_mode": {
    "name": "ipython",
    "version": 3
   },
   "file_extension": ".py",
   "mimetype": "text/x-python",
   "name": "python",
   "nbconvert_exporter": "python",
   "pygments_lexer": "ipython3",
   "version": "3.7.3"
  },
  "orig_nbformat": 4,
  "kernelspec": {
   "name": "python3",
   "display_name": "Python 3.7.3 64-bit ('base': conda)"
  },
  "interpreter": {
   "hash": "2192b546f136b8fe431fa1aa29e356bd2da1ad15b043d1ea0489e9abf936fda4"
  }
 },
 "nbformat": 4,
 "nbformat_minor": 2,
 "cells": [
  {
   "cell_type": "code",
   "execution_count": 1,
   "metadata": {},
   "outputs": [],
   "source": [
    "import pandas as pd\n",
    "import numpy as np\n",
    "import random"
   ]
  },
  {
   "cell_type": "code",
   "execution_count": 2,
   "metadata": {},
   "outputs": [
    {
     "output_type": "execute_result",
     "data": {
      "text/plain": [
       "  Students Sex class   GPA Honors\n",
       "0    Alice   F    Fr  3.80    Yes\n",
       "1     Brad   M    Fr  2.60    Yes\n",
       "2    Caleb   M    Fr  2.25     No\n",
       "3    Daisy   F    Fr  2.10     No\n",
       "4     Faye   F    Fr  2.00     No"
      ],
      "text/html": "<div>\n<style scoped>\n    .dataframe tbody tr th:only-of-type {\n        vertical-align: middle;\n    }\n\n    .dataframe tbody tr th {\n        vertical-align: top;\n    }\n\n    .dataframe thead th {\n        text-align: right;\n    }\n</style>\n<table border=\"1\" class=\"dataframe\">\n  <thead>\n    <tr style=\"text-align: right;\">\n      <th></th>\n      <th>Students</th>\n      <th>Sex</th>\n      <th>class</th>\n      <th>GPA</th>\n      <th>Honors</th>\n    </tr>\n  </thead>\n  <tbody>\n    <tr>\n      <th>0</th>\n      <td>Alice</td>\n      <td>F</td>\n      <td>Fr</td>\n      <td>3.80</td>\n      <td>Yes</td>\n    </tr>\n    <tr>\n      <th>1</th>\n      <td>Brad</td>\n      <td>M</td>\n      <td>Fr</td>\n      <td>2.60</td>\n      <td>Yes</td>\n    </tr>\n    <tr>\n      <th>2</th>\n      <td>Caleb</td>\n      <td>M</td>\n      <td>Fr</td>\n      <td>2.25</td>\n      <td>No</td>\n    </tr>\n    <tr>\n      <th>3</th>\n      <td>Daisy</td>\n      <td>F</td>\n      <td>Fr</td>\n      <td>2.10</td>\n      <td>No</td>\n    </tr>\n    <tr>\n      <th>4</th>\n      <td>Faye</td>\n      <td>F</td>\n      <td>Fr</td>\n      <td>2.00</td>\n      <td>No</td>\n    </tr>\n  </tbody>\n</table>\n</div>"
     },
     "metadata": {},
     "execution_count": 2
    }
   ],
   "source": [
    "population_data = pd.read_csv(\"Fakeschool_1.csv\")\n",
    "population_data.head()"
   ]
  },
  {
   "cell_type": "code",
   "execution_count": 3,
   "metadata": {},
   "outputs": [
    {
     "output_type": "execute_result",
     "data": {
      "text/plain": [
       "(28, 5)"
      ]
     },
     "metadata": {},
     "execution_count": 3
    }
   ],
   "source": [
    "population_data.shape"
   ]
  },
  {
   "cell_type": "code",
   "execution_count": 4,
   "metadata": {},
   "outputs": [
    {
     "output_type": "execute_result",
     "data": {
      "text/plain": [
       "0"
      ]
     },
     "metadata": {},
     "execution_count": 4
    }
   ],
   "source": [
    "population_data.duplicated().sum()"
   ]
  },
  {
   "cell_type": "code",
   "execution_count": 5,
   "metadata": {},
   "outputs": [
    {
     "output_type": "execute_result",
     "data": {
      "text/plain": [
       "Students    0\n",
       "Sex         0\n",
       "class       0\n",
       "GPA         0\n",
       "Honors      0\n",
       "dtype: int64"
      ]
     },
     "metadata": {},
     "execution_count": 5
    }
   ],
   "source": [
    "population_data.isnull().sum()"
   ]
  },
  {
   "cell_type": "code",
   "execution_count": 18,
   "metadata": {},
   "outputs": [
    {
     "output_type": "execute_result",
     "data": {
      "text/plain": [
       "2.766428571428572"
      ]
     },
     "metadata": {},
     "execution_count": 18
    }
   ],
   "source": [
    "population_data['GPA'].mean()"
   ]
  },
  {
   "source": [
    "## Simple Random Sampling"
   ],
   "cell_type": "markdown",
   "metadata": {}
  },
  {
   "cell_type": "code",
   "execution_count": 6,
   "metadata": {},
   "outputs": [],
   "source": [
    "sample1 = population_data.sample(10)"
   ]
  },
  {
   "cell_type": "code",
   "execution_count": 7,
   "metadata": {},
   "outputs": [
    {
     "output_type": "stream",
     "name": "stdout",
     "text": [
      "    Students Sex class   GPA Honors\n9      Chris   M    So  4.00    Yes\n4       Faye   F    Fr  2.00     No\n2      Caleb   M    Fr  2.25     No\n10     Dylan   M    So  3.50    Yes\n1       Brad   M    Fr  2.60    Yes\n13   Gabriel   M    So  1.98     No\n12      Eric   M    So  2.10     No\n3      Daisy   F    Fr  2.10     No\n15  Brittany   F    Jr  3.90     No\n19    Eliott   M    Jr  1.90     No\n"
     ]
    }
   ],
   "source": [
    "print(sample1)"
   ]
  },
  {
   "cell_type": "code",
   "execution_count": 8,
   "metadata": {},
   "outputs": [
    {
     "output_type": "execute_result",
     "data": {
      "text/plain": [
       "2.633"
      ]
     },
     "metadata": {},
     "execution_count": 8
    }
   ],
   "source": [
    "sample1['GPA'].mean()"
   ]
  },
  {
   "source": [
    "## Systematic Random Sampling"
   ],
   "cell_type": "markdown",
   "metadata": {}
  },
  {
   "cell_type": "code",
   "execution_count": 19,
   "metadata": {},
   "outputs": [
    {
     "output_type": "execute_result",
     "data": {
      "text/plain": [
       "   Students Sex class   GPA Honors\n",
       "0     Alice   F    Fr  3.80    Yes\n",
       "2     Caleb   M    Fr  2.25     No\n",
       "4      Faye   F    Fr  2.00     No\n",
       "6     Georg   M    Fr  1.40     No\n",
       "8     Betsy   F    So  4.00    Yes\n",
       "10    Dylan   M    So  3.50    Yes\n",
       "12     Eric   M    So  2.10     No\n",
       "14     Adam   M    Jr  3.98    Yes\n",
       "16   Cassie   F    Jr  3.75    Yes\n",
       "18    Faith   F    Jr  2.50    Yes\n",
       "20    Garth   M    Jr  1.10     No\n",
       "22      Bob   M    Sr  3.80    Yes\n",
       "24    Diana   F    Sr  2.90     No\n",
       "26       Ed   M    Sr  1.50     No"
      ],
      "text/html": "<div>\n<style scoped>\n    .dataframe tbody tr th:only-of-type {\n        vertical-align: middle;\n    }\n\n    .dataframe tbody tr th {\n        vertical-align: top;\n    }\n\n    .dataframe thead th {\n        text-align: right;\n    }\n</style>\n<table border=\"1\" class=\"dataframe\">\n  <thead>\n    <tr style=\"text-align: right;\">\n      <th></th>\n      <th>Students</th>\n      <th>Sex</th>\n      <th>class</th>\n      <th>GPA</th>\n      <th>Honors</th>\n    </tr>\n  </thead>\n  <tbody>\n    <tr>\n      <th>0</th>\n      <td>Alice</td>\n      <td>F</td>\n      <td>Fr</td>\n      <td>3.80</td>\n      <td>Yes</td>\n    </tr>\n    <tr>\n      <th>2</th>\n      <td>Caleb</td>\n      <td>M</td>\n      <td>Fr</td>\n      <td>2.25</td>\n      <td>No</td>\n    </tr>\n    <tr>\n      <th>4</th>\n      <td>Faye</td>\n      <td>F</td>\n      <td>Fr</td>\n      <td>2.00</td>\n      <td>No</td>\n    </tr>\n    <tr>\n      <th>6</th>\n      <td>Georg</td>\n      <td>M</td>\n      <td>Fr</td>\n      <td>1.40</td>\n      <td>No</td>\n    </tr>\n    <tr>\n      <th>8</th>\n      <td>Betsy</td>\n      <td>F</td>\n      <td>So</td>\n      <td>4.00</td>\n      <td>Yes</td>\n    </tr>\n    <tr>\n      <th>10</th>\n      <td>Dylan</td>\n      <td>M</td>\n      <td>So</td>\n      <td>3.50</td>\n      <td>Yes</td>\n    </tr>\n    <tr>\n      <th>12</th>\n      <td>Eric</td>\n      <td>M</td>\n      <td>So</td>\n      <td>2.10</td>\n      <td>No</td>\n    </tr>\n    <tr>\n      <th>14</th>\n      <td>Adam</td>\n      <td>M</td>\n      <td>Jr</td>\n      <td>3.98</td>\n      <td>Yes</td>\n    </tr>\n    <tr>\n      <th>16</th>\n      <td>Cassie</td>\n      <td>F</td>\n      <td>Jr</td>\n      <td>3.75</td>\n      <td>Yes</td>\n    </tr>\n    <tr>\n      <th>18</th>\n      <td>Faith</td>\n      <td>F</td>\n      <td>Jr</td>\n      <td>2.50</td>\n      <td>Yes</td>\n    </tr>\n    <tr>\n      <th>20</th>\n      <td>Garth</td>\n      <td>M</td>\n      <td>Jr</td>\n      <td>1.10</td>\n      <td>No</td>\n    </tr>\n    <tr>\n      <th>22</th>\n      <td>Bob</td>\n      <td>M</td>\n      <td>Sr</td>\n      <td>3.80</td>\n      <td>Yes</td>\n    </tr>\n    <tr>\n      <th>24</th>\n      <td>Diana</td>\n      <td>F</td>\n      <td>Sr</td>\n      <td>2.90</td>\n      <td>No</td>\n    </tr>\n    <tr>\n      <th>26</th>\n      <td>Ed</td>\n      <td>M</td>\n      <td>Sr</td>\n      <td>1.50</td>\n      <td>No</td>\n    </tr>\n  </tbody>\n</table>\n</div>"
     },
     "metadata": {},
     "execution_count": 19
    }
   ],
   "source": [
    "def sys_sampling(data, step):\n",
    "    \n",
    "    indexes = np.arange(0,len(data),step=step)\n",
    "    sample = data.iloc[indexes]\n",
    "    return sample\n",
    "    \n",
    "sample_2 = sys_sampling(population_data, 2)\n",
    "sample_2_mean = sample_2['GPA'].mean()\n",
    "sample_2"
   ]
  },
  {
   "cell_type": "code",
   "execution_count": 20,
   "metadata": {},
   "outputs": [
    {
     "output_type": "stream",
     "name": "stdout",
     "text": [
      "2.7557142857142862\n"
     ]
    }
   ],
   "source": [
    "print(sample_2_mean)"
   ]
  },
  {
   "source": [
    "## Cluster Sampling"
   ],
   "cell_type": "markdown",
   "metadata": {}
  },
  {
   "cell_type": "code",
   "execution_count": 21,
   "metadata": {},
   "outputs": [],
   "source": [
    "cluster_1 = population_data[population_data['Sex']=='F']\n",
    "cluster_2 = population_data[population_data['Sex']=='M']"
   ]
  },
  {
   "cell_type": "code",
   "execution_count": 24,
   "metadata": {},
   "outputs": [
    {
     "output_type": "stream",
     "name": "stdout",
     "text": [
      "cluster 2 : \n    Students Sex class   GPA Honors\n1      Brad   M    Fr  2.60    Yes\n2     Caleb   M    Fr  2.25     No\n6     Georg   M    Fr  1.40     No\n9     Chris   M    So  4.00    Yes\n10    Dylan   M    So  3.50    Yes\n11   Felipe   M    So  3.00     No\n12     Eric   M    So  2.10     No\n13  Gabriel   M    So  1.98     No\n14     Adam   M    Jr  3.98    Yes\n17    Derek   M    Jr  3.10    Yes\n19   Eliott   M    Jr  1.90     No\n20    Garth   M    Jr  1.10     No\n22      Bob   M    Sr  3.80    Yes\n23     Carl   M    Sr  3.10     No\n25    Frank   M    Sr  2.00     No\n26       Ed   M    Sr  1.50     No\nMean of cluster 2 : \n 2.581875\n"
     ]
    }
   ],
   "source": [
    "choice = random.choice(['cluster_1','cluster_2'])\n",
    "if choice == 'cluster_1':\n",
    "    print(f\"cluster 1 : \\n {cluster_1}\")\n",
    "    print(f\"Mean of cluster 1 : \\n {cluster_1['GPA'].mean()}\")\n",
    "else:\n",
    "    print(f\"cluster 2 : \\n {cluster_2}\")\n",
    "    print(f\"Mean of cluster 2 : \\n {cluster_2['GPA'].mean()}\")"
   ]
  },
  {
   "source": [
    "## Stratified Sampling"
   ],
   "cell_type": "markdown",
   "metadata": {}
  },
  {
   "cell_type": "code",
   "execution_count": 13,
   "metadata": {},
   "outputs": [
    {
     "output_type": "execute_result",
     "data": {
      "text/plain": [
       "   Students Sex class   GPA Honors\n",
       "2     Caleb   M    Fr  2.25     No\n",
       "24    Diana   F    Sr  2.90     No\n",
       "1      Brad   M    Fr  2.60    Yes\n",
       "18    Faith   F    Jr  2.50    Yes\n",
       "9     Chris   M    So  4.00    Yes\n",
       "23     Carl   M    Sr  3.10     No\n",
       "19   Eliott   M    Jr  1.90     No\n",
       "14     Adam   M    Jr  3.98    Yes\n",
       "25    Frank   M    Sr  2.00     No\n",
       "10    Dylan   M    So  3.50    Yes\n",
       "3     Daisy   F    Fr  2.10     No\n",
       "11   Felipe   M    So  3.00     No"
      ],
      "text/html": "<div>\n<style scoped>\n    .dataframe tbody tr th:only-of-type {\n        vertical-align: middle;\n    }\n\n    .dataframe tbody tr th {\n        vertical-align: top;\n    }\n\n    .dataframe thead th {\n        text-align: right;\n    }\n</style>\n<table border=\"1\" class=\"dataframe\">\n  <thead>\n    <tr style=\"text-align: right;\">\n      <th></th>\n      <th>Students</th>\n      <th>Sex</th>\n      <th>class</th>\n      <th>GPA</th>\n      <th>Honors</th>\n    </tr>\n  </thead>\n  <tbody>\n    <tr>\n      <th>2</th>\n      <td>Caleb</td>\n      <td>M</td>\n      <td>Fr</td>\n      <td>2.25</td>\n      <td>No</td>\n    </tr>\n    <tr>\n      <th>24</th>\n      <td>Diana</td>\n      <td>F</td>\n      <td>Sr</td>\n      <td>2.90</td>\n      <td>No</td>\n    </tr>\n    <tr>\n      <th>1</th>\n      <td>Brad</td>\n      <td>M</td>\n      <td>Fr</td>\n      <td>2.60</td>\n      <td>Yes</td>\n    </tr>\n    <tr>\n      <th>18</th>\n      <td>Faith</td>\n      <td>F</td>\n      <td>Jr</td>\n      <td>2.50</td>\n      <td>Yes</td>\n    </tr>\n    <tr>\n      <th>9</th>\n      <td>Chris</td>\n      <td>M</td>\n      <td>So</td>\n      <td>4.00</td>\n      <td>Yes</td>\n    </tr>\n    <tr>\n      <th>23</th>\n      <td>Carl</td>\n      <td>M</td>\n      <td>Sr</td>\n      <td>3.10</td>\n      <td>No</td>\n    </tr>\n    <tr>\n      <th>19</th>\n      <td>Eliott</td>\n      <td>M</td>\n      <td>Jr</td>\n      <td>1.90</td>\n      <td>No</td>\n    </tr>\n    <tr>\n      <th>14</th>\n      <td>Adam</td>\n      <td>M</td>\n      <td>Jr</td>\n      <td>3.98</td>\n      <td>Yes</td>\n    </tr>\n    <tr>\n      <th>25</th>\n      <td>Frank</td>\n      <td>M</td>\n      <td>Sr</td>\n      <td>2.00</td>\n      <td>No</td>\n    </tr>\n    <tr>\n      <th>10</th>\n      <td>Dylan</td>\n      <td>M</td>\n      <td>So</td>\n      <td>3.50</td>\n      <td>Yes</td>\n    </tr>\n    <tr>\n      <th>3</th>\n      <td>Daisy</td>\n      <td>F</td>\n      <td>Fr</td>\n      <td>2.10</td>\n      <td>No</td>\n    </tr>\n    <tr>\n      <th>11</th>\n      <td>Felipe</td>\n      <td>M</td>\n      <td>So</td>\n      <td>3.00</td>\n      <td>No</td>\n    </tr>\n  </tbody>\n</table>\n</div>"
     },
     "metadata": {},
     "execution_count": 13
    }
   ],
   "source": [
    "from sklearn.model_selection import StratifiedShuffleSplit\n",
    "\n",
    "split = StratifiedShuffleSplit(n_splits=1, test_size=12) # size = 10 and getting shuffled once\n",
    "\n",
    "for x, y in split.split(population_data, population_data['class']):\n",
    "    stratified_random_sample = population_data.iloc[y]\n",
    "\n",
    "stratified_random_sample"
   ]
  },
  {
   "cell_type": "code",
   "execution_count": 25,
   "metadata": {},
   "outputs": [
    {
     "output_type": "stream",
     "name": "stdout",
     "text": [
      "2.8191666666666664\n"
     ]
    }
   ],
   "source": [
    "print(stratified_random_sample['GPA'].mean())"
   ]
  },
  {
   "source": [
    "## Another way for stratification (logic based)"
   ],
   "cell_type": "markdown",
   "metadata": {}
  },
  {
   "cell_type": "code",
   "execution_count": 14,
   "metadata": {},
   "outputs": [
    {
     "output_type": "execute_result",
     "data": {
      "text/plain": [
       "Fr    7\n",
       "So    7\n",
       "Jr    7\n",
       "Sr    7\n",
       "Name: class, dtype: int64"
      ]
     },
     "metadata": {},
     "execution_count": 14
    }
   ],
   "source": [
    "population_data['class'].value_counts()"
   ]
  },
  {
   "cell_type": "code",
   "execution_count": 15,
   "metadata": {},
   "outputs": [],
   "source": [
    "strata1 = population_data[population_data['class']=='Fr']\n",
    "strata2 = population_data[population_data['class']=='So']\n",
    "strata3 = population_data[population_data['class']=='Jr']\n",
    "strata4 = population_data[population_data['class']=='Sr']"
   ]
  },
  {
   "cell_type": "code",
   "execution_count": 16,
   "metadata": {},
   "outputs": [],
   "source": [
    "st1 = strata1.sample(3)\n",
    "st2 = strata2.sample(3)\n",
    "st3 = strata3.sample(3)\n",
    "st4 = strata4.sample(3)\n",
    "sample_stratification = st1.append([st2,st3,st4])"
   ]
  },
  {
   "cell_type": "code",
   "execution_count": 17,
   "metadata": {},
   "outputs": [
    {
     "output_type": "execute_result",
     "data": {
      "text/plain": [
       "   Students Sex class   GPA Honors\n",
       "4      Faye   F    Fr  2.00     No\n",
       "6     Georg   M    Fr  1.40     No\n",
       "2     Caleb   M    Fr  2.25     No\n",
       "9     Chris   M    So  4.00    Yes\n",
       "7    Andrea   F    So  4.00    Yes\n",
       "12     Eric   M    So  2.10     No\n",
       "16   Cassie   F    Jr  3.75    Yes\n",
       "19   Eliott   M    Jr  1.90     No\n",
       "17    Derek   M    Jr  3.10    Yes\n",
       "23     Carl   M    Sr  3.10     No\n",
       "27    Grace   F    Sr  1.40     No\n",
       "24    Diana   F    Sr  2.90     No"
      ],
      "text/html": "<div>\n<style scoped>\n    .dataframe tbody tr th:only-of-type {\n        vertical-align: middle;\n    }\n\n    .dataframe tbody tr th {\n        vertical-align: top;\n    }\n\n    .dataframe thead th {\n        text-align: right;\n    }\n</style>\n<table border=\"1\" class=\"dataframe\">\n  <thead>\n    <tr style=\"text-align: right;\">\n      <th></th>\n      <th>Students</th>\n      <th>Sex</th>\n      <th>class</th>\n      <th>GPA</th>\n      <th>Honors</th>\n    </tr>\n  </thead>\n  <tbody>\n    <tr>\n      <th>4</th>\n      <td>Faye</td>\n      <td>F</td>\n      <td>Fr</td>\n      <td>2.00</td>\n      <td>No</td>\n    </tr>\n    <tr>\n      <th>6</th>\n      <td>Georg</td>\n      <td>M</td>\n      <td>Fr</td>\n      <td>1.40</td>\n      <td>No</td>\n    </tr>\n    <tr>\n      <th>2</th>\n      <td>Caleb</td>\n      <td>M</td>\n      <td>Fr</td>\n      <td>2.25</td>\n      <td>No</td>\n    </tr>\n    <tr>\n      <th>9</th>\n      <td>Chris</td>\n      <td>M</td>\n      <td>So</td>\n      <td>4.00</td>\n      <td>Yes</td>\n    </tr>\n    <tr>\n      <th>7</th>\n      <td>Andrea</td>\n      <td>F</td>\n      <td>So</td>\n      <td>4.00</td>\n      <td>Yes</td>\n    </tr>\n    <tr>\n      <th>12</th>\n      <td>Eric</td>\n      <td>M</td>\n      <td>So</td>\n      <td>2.10</td>\n      <td>No</td>\n    </tr>\n    <tr>\n      <th>16</th>\n      <td>Cassie</td>\n      <td>F</td>\n      <td>Jr</td>\n      <td>3.75</td>\n      <td>Yes</td>\n    </tr>\n    <tr>\n      <th>19</th>\n      <td>Eliott</td>\n      <td>M</td>\n      <td>Jr</td>\n      <td>1.90</td>\n      <td>No</td>\n    </tr>\n    <tr>\n      <th>17</th>\n      <td>Derek</td>\n      <td>M</td>\n      <td>Jr</td>\n      <td>3.10</td>\n      <td>Yes</td>\n    </tr>\n    <tr>\n      <th>23</th>\n      <td>Carl</td>\n      <td>M</td>\n      <td>Sr</td>\n      <td>3.10</td>\n      <td>No</td>\n    </tr>\n    <tr>\n      <th>27</th>\n      <td>Grace</td>\n      <td>F</td>\n      <td>Sr</td>\n      <td>1.40</td>\n      <td>No</td>\n    </tr>\n    <tr>\n      <th>24</th>\n      <td>Diana</td>\n      <td>F</td>\n      <td>Sr</td>\n      <td>2.90</td>\n      <td>No</td>\n    </tr>\n  </tbody>\n</table>\n</div>"
     },
     "metadata": {},
     "execution_count": 17
    }
   ],
   "source": [
    "sample_stratification"
   ]
  },
  {
   "cell_type": "code",
   "execution_count": 26,
   "metadata": {},
   "outputs": [
    {
     "output_type": "stream",
     "name": "stdout",
     "text": [
      "2.658333333333333\n"
     ]
    }
   ],
   "source": [
    "print(sample_stratification['GPA'].mean())"
   ]
  }
 ]
}