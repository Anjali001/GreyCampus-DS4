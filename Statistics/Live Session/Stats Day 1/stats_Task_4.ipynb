{
 "metadata": {
  "language_info": {
   "codemirror_mode": {
    "name": "ipython",
    "version": 3
   },
   "file_extension": ".py",
   "mimetype": "text/x-python",
   "name": "python",
   "nbconvert_exporter": "python",
   "pygments_lexer": "ipython3",
   "version": "3.7.3"
  },
  "orig_nbformat": 4,
  "kernelspec": {
   "name": "python3",
   "display_name": "Python 3.7.3 64-bit ('base': conda)"
  },
  "interpreter": {
   "hash": "2192b546f136b8fe431fa1aa29e356bd2da1ad15b043d1ea0489e9abf936fda4"
  }
 },
 "nbformat": 4,
 "nbformat_minor": 2,
 "cells": [
  {
   "cell_type": "code",
   "execution_count": 1,
   "metadata": {},
   "outputs": [],
   "source": [
    "import pandas as pd"
   ]
  },
  {
   "cell_type": "code",
   "execution_count": 2,
   "metadata": {},
   "outputs": [
    {
     "output_type": "execute_result",
     "data": {
      "text/plain": [
       "    Best Actress  Best Actor\n",
       "0             27          43\n",
       "1             29          35\n",
       "2             30          39\n",
       "3             63          44\n",
       "4             30          52\n",
       "5             34          47\n",
       "6             46          63\n",
       "7             29          48\n",
       "8             64          37\n",
       "9             21          55\n",
       "10            45          44\n",
       "11            56          33"
      ],
      "text/html": "<div>\n<style scoped>\n    .dataframe tbody tr th:only-of-type {\n        vertical-align: middle;\n    }\n\n    .dataframe tbody tr th {\n        vertical-align: top;\n    }\n\n    .dataframe thead th {\n        text-align: right;\n    }\n</style>\n<table border=\"1\" class=\"dataframe\">\n  <thead>\n    <tr style=\"text-align: right;\">\n      <th></th>\n      <th>Best Actress</th>\n      <th>Best Actor</th>\n    </tr>\n  </thead>\n  <tbody>\n    <tr>\n      <th>0</th>\n      <td>27</td>\n      <td>43</td>\n    </tr>\n    <tr>\n      <th>1</th>\n      <td>29</td>\n      <td>35</td>\n    </tr>\n    <tr>\n      <th>2</th>\n      <td>30</td>\n      <td>39</td>\n    </tr>\n    <tr>\n      <th>3</th>\n      <td>63</td>\n      <td>44</td>\n    </tr>\n    <tr>\n      <th>4</th>\n      <td>30</td>\n      <td>52</td>\n    </tr>\n    <tr>\n      <th>5</th>\n      <td>34</td>\n      <td>47</td>\n    </tr>\n    <tr>\n      <th>6</th>\n      <td>46</td>\n      <td>63</td>\n    </tr>\n    <tr>\n      <th>7</th>\n      <td>29</td>\n      <td>48</td>\n    </tr>\n    <tr>\n      <th>8</th>\n      <td>64</td>\n      <td>37</td>\n    </tr>\n    <tr>\n      <th>9</th>\n      <td>21</td>\n      <td>55</td>\n    </tr>\n    <tr>\n      <th>10</th>\n      <td>45</td>\n      <td>44</td>\n    </tr>\n    <tr>\n      <th>11</th>\n      <td>56</td>\n      <td>33</td>\n    </tr>\n  </tbody>\n</table>\n</div>"
     },
     "metadata": {},
     "execution_count": 2
    }
   ],
   "source": [
    "data = pd.read_excel(\"Actor.xlsx\")\n",
    "data"
   ]
  },
  {
   "cell_type": "code",
   "execution_count": 3,
   "metadata": {},
   "outputs": [
    {
     "output_type": "execute_result",
     "data": {
      "text/plain": [
       "(12, 2)"
      ]
     },
     "metadata": {},
     "execution_count": 3
    }
   ],
   "source": [
    "data.shape"
   ]
  },
  {
   "source": [
    "## Mean : Measure of Central Tendency\n",
    "## Standard Deviation : Measure of Dispersion"
   ],
   "cell_type": "markdown",
   "metadata": {}
  },
  {
   "cell_type": "code",
   "execution_count": 20,
   "metadata": {},
   "outputs": [
    {
     "output_type": "execute_result",
     "data": {
      "text/plain": [
       "       Best Actress  Best Actor\n",
       "count     12.000000   12.000000\n",
       "mean      39.500000   45.000000\n",
       "std       14.853833    8.717798\n",
       "min       21.000000   33.000000\n",
       "25%       29.000000   38.500000\n",
       "50%       32.000000   44.000000\n",
       "75%       48.500000   49.000000\n",
       "max       64.000000   63.000000"
      ],
      "text/html": "<div>\n<style scoped>\n    .dataframe tbody tr th:only-of-type {\n        vertical-align: middle;\n    }\n\n    .dataframe tbody tr th {\n        vertical-align: top;\n    }\n\n    .dataframe thead th {\n        text-align: right;\n    }\n</style>\n<table border=\"1\" class=\"dataframe\">\n  <thead>\n    <tr style=\"text-align: right;\">\n      <th></th>\n      <th>Best Actress</th>\n      <th>Best Actor</th>\n    </tr>\n  </thead>\n  <tbody>\n    <tr>\n      <th>count</th>\n      <td>12.000000</td>\n      <td>12.000000</td>\n    </tr>\n    <tr>\n      <th>mean</th>\n      <td>39.500000</td>\n      <td>45.000000</td>\n    </tr>\n    <tr>\n      <th>std</th>\n      <td>14.853833</td>\n      <td>8.717798</td>\n    </tr>\n    <tr>\n      <th>min</th>\n      <td>21.000000</td>\n      <td>33.000000</td>\n    </tr>\n    <tr>\n      <th>25%</th>\n      <td>29.000000</td>\n      <td>38.500000</td>\n    </tr>\n    <tr>\n      <th>50%</th>\n      <td>32.000000</td>\n      <td>44.000000</td>\n    </tr>\n    <tr>\n      <th>75%</th>\n      <td>48.500000</td>\n      <td>49.000000</td>\n    </tr>\n    <tr>\n      <th>max</th>\n      <td>64.000000</td>\n      <td>63.000000</td>\n    </tr>\n  </tbody>\n</table>\n</div>"
     },
     "metadata": {},
     "execution_count": 20
    }
   ],
   "source": [
    "data.describe()"
   ]
  },
  {
   "source": [
    "## Median : Measure of Central Tendency"
   ],
   "cell_type": "markdown",
   "metadata": {}
  },
  {
   "cell_type": "code",
   "execution_count": 5,
   "metadata": {},
   "outputs": [
    {
     "output_type": "execute_result",
     "data": {
      "text/plain": [
       "Best Actress    32.0\n",
       "Best Actor      44.0\n",
       "dtype: float64"
      ]
     },
     "metadata": {},
     "execution_count": 5
    }
   ],
   "source": [
    "data.median()"
   ]
  },
  {
   "source": [
    "## Mode : Measure of Central Tendency"
   ],
   "cell_type": "markdown",
   "metadata": {}
  },
  {
   "cell_type": "code",
   "execution_count": 6,
   "metadata": {},
   "outputs": [
    {
     "output_type": "execute_result",
     "data": {
      "text/plain": [
       "   Best Actress  Best Actor\n",
       "0            29        44.0\n",
       "1            30         NaN"
      ],
      "text/html": "<div>\n<style scoped>\n    .dataframe tbody tr th:only-of-type {\n        vertical-align: middle;\n    }\n\n    .dataframe tbody tr th {\n        vertical-align: top;\n    }\n\n    .dataframe thead th {\n        text-align: right;\n    }\n</style>\n<table border=\"1\" class=\"dataframe\">\n  <thead>\n    <tr style=\"text-align: right;\">\n      <th></th>\n      <th>Best Actress</th>\n      <th>Best Actor</th>\n    </tr>\n  </thead>\n  <tbody>\n    <tr>\n      <th>0</th>\n      <td>29</td>\n      <td>44.0</td>\n    </tr>\n    <tr>\n      <th>1</th>\n      <td>30</td>\n      <td>NaN</td>\n    </tr>\n  </tbody>\n</table>\n</div>"
     },
     "metadata": {},
     "execution_count": 6
    }
   ],
   "source": [
    "data.mode() # Best Actress is bimodal"
   ]
  },
  {
   "cell_type": "code",
   "execution_count": 7,
   "metadata": {},
   "outputs": [
    {
     "output_type": "execute_result",
     "data": {
      "text/plain": [
       "29    2\n",
       "30    2\n",
       "27    1\n",
       "63    1\n",
       "34    1\n",
       "46    1\n",
       "64    1\n",
       "21    1\n",
       "45    1\n",
       "56    1\n",
       "Name: Best Actress, dtype: int64"
      ]
     },
     "metadata": {},
     "execution_count": 7
    }
   ],
   "source": [
    "data[\"Best Actress\"].value_counts()"
   ]
  },
  {
   "cell_type": "code",
   "execution_count": 8,
   "metadata": {},
   "outputs": [
    {
     "output_type": "execute_result",
     "data": {
      "text/plain": [
       "44    2\n",
       "43    1\n",
       "35    1\n",
       "39    1\n",
       "52    1\n",
       "47    1\n",
       "63    1\n",
       "48    1\n",
       "37    1\n",
       "55    1\n",
       "33    1\n",
       "Name: Best Actor, dtype: int64"
      ]
     },
     "metadata": {},
     "execution_count": 8
    }
   ],
   "source": [
    "data[\"Best Actor\"].value_counts()"
   ]
  },
  {
   "source": [
    "## Variance : Measure of Dispersion"
   ],
   "cell_type": "markdown",
   "metadata": {}
  },
  {
   "cell_type": "code",
   "execution_count": 10,
   "metadata": {},
   "outputs": [
    {
     "output_type": "execute_result",
     "data": {
      "text/plain": [
       "Best Actress    220.636364\n",
       "Best Actor       76.000000\n",
       "dtype: float64"
      ]
     },
     "metadata": {},
     "execution_count": 10
    }
   ],
   "source": [
    "data.var()"
   ]
  }
 ]
}